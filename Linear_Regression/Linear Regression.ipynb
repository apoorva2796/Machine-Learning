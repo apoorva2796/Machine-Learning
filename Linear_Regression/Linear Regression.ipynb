{
 "cells": [
  {
   "cell_type": "markdown",
   "metadata": {},
   "source": [
    "### Developing Linear Regression Model mathematcially"
   ]
  },
  {
   "cell_type": "code",
   "execution_count": 1,
   "metadata": {},
   "outputs": [],
   "source": [
    "import numpy as np\n",
    "from matplotlib import pyplot as plt"
   ]
  },
  {
   "cell_type": "code",
   "execution_count": 2,
   "metadata": {},
   "outputs": [
    {
     "name": "stdout",
     "output_type": "stream",
     "text": [
      "[[ 4]\n",
      " [ 9]\n",
      " [10]\n",
      " [14]\n",
      " [ 4]\n",
      " [ 7]\n",
      " [12]\n",
      " [22]\n",
      " [ 1]\n",
      " [17]]\n"
     ]
    }
   ],
   "source": [
    "X= np.array([4,9,10,14, 4,7,12,22, 1,17])\n",
    "m=len(X)\n",
    "X=X.reshape(m,1)\n",
    "print(X)"
   ]
  },
  {
   "cell_type": "code",
   "execution_count": 3,
   "metadata": {},
   "outputs": [
    {
     "name": "stdout",
     "output_type": "stream",
     "text": [
      "[[31]\n",
      " [58]\n",
      " [65]\n",
      " [73]\n",
      " [37]\n",
      " [44]\n",
      " [60]\n",
      " [91]\n",
      " [21]\n",
      " [84]]\n"
     ]
    }
   ],
   "source": [
    "Y= np.array([31,58, 65, 73, 37,44,60,91,21, 84])\n",
    "Y=Y.reshape(len(Y),1)\n",
    "print(Y)"
   ]
  },
  {
   "cell_type": "code",
   "execution_count": 4,
   "metadata": {},
   "outputs": [
    {
     "data": {
      "text/plain": [
       "<matplotlib.collections.PathCollection at 0x2b7b79ea9e8>"
      ]
     },
     "execution_count": 4,
     "metadata": {},
     "output_type": "execute_result"
    },
    {
     "data": {
      "image/png": "[encoded data removed]",
      "text/plain": [
       "<Figure size 432x288 with 1 Axes>"
      ]
     },
     "metadata": {
      "needs_background": "light"
     },
     "output_type": "display_data"
    }
   ],
   "source": [
    "plt.scatter(X,Y)"
   ]
  },
  {
   "cell_type": "code",
   "execution_count": 5,
   "metadata": {},
   "outputs": [
    {
     "name": "stdout",
     "output_type": "stream",
     "text": [
      "Mean(X) = 10.0\n",
      "Mean(Y) = 56.4\n"
     ]
    }
   ],
   "source": [
    "x_mean=np.mean(X)\n",
    "y_mean=np.mean(Y)\n",
    "\n",
    "print(\"Mean(X) =\", x_mean)\n",
    "print(\"Mean(Y) =\", y_mean)"
   ]
  },
  {
   "cell_type": "code",
   "execution_count": 6,
   "metadata": {},
   "outputs": [
    {
     "name": "stdout",
     "output_type": "stream",
     "text": [
      "Coefficient a0= [21.69255319]\n",
      "Coefficient a1= [3.47074468]\n"
     ]
    }
   ],
   "source": [
    "num=0\n",
    "den=0\n",
    "for i in range(m):\n",
    "    num+=((X[i]-x_mean)*(Y[i]-y_mean))\n",
    "    den+=((X[i]-x_mean)**2)\n",
    "\n",
    "a1=num/den\n",
    "a0=y_mean-a1*x_mean  \n",
    "print(\"Coefficient a0=\",a0)\n",
    "print(\"Coefficient a1=\",a1)"
   ]
  },
  {
   "cell_type": "code",
   "execution_count": 7,
   "metadata": {},
   "outputs": [
    {
     "name": "stdout",
     "output_type": "stream",
     "text": [
      "Predicted values are:\n",
      " [[35.57553191]\n",
      " [52.92925532]\n",
      " [56.4       ]\n",
      " [70.28297872]\n",
      " [35.57553191]\n",
      " [45.98776596]\n",
      " [63.34148936]\n",
      " [98.04893617]\n",
      " [25.16329787]\n",
      " [80.69521277]]\n"
     ]
    }
   ],
   "source": [
    "y_pred1=a0+a1*X  \n",
    "print(\"Predicted values are:\\n\",y_pred1)"
   ]
  },
  {
   "cell_type": "code",
   "execution_count": 8,
   "metadata": {},
   "outputs": [
    {
     "data": {
      "text/plain": [
       "[<matplotlib.lines.Line2D at 0x2b7b79a2c50>]"
      ]
     },
     "execution_count": 8,
     "metadata": {},
     "output_type": "execute_result"
    },
    {
     "data": {
      "image/png": "[encoded data removed]",
      "text/plain": [
       "<Figure size 432x288 with 1 Axes>"
      ]
     },
     "metadata": {
      "needs_background": "light"
     },
     "output_type": "display_data"
    }
   ],
   "source": [
    "plt.scatter(X,Y, color='red')\n",
    "plt.plot(X,y_pred1)"
   ]
  },
  {
   "cell_type": "code",
   "execution_count": 9,
   "metadata": {},
   "outputs": [
    {
     "name": "stdout",
     "output_type": "stream",
     "text": [
      "[[-4.57553191]\n",
      " [ 5.07074468]\n",
      " [ 8.6       ]\n",
      " [ 2.71702128]\n",
      " [ 1.42446809]\n",
      " [-1.98776596]\n",
      " [-3.34148936]\n",
      " [-7.04893617]\n",
      " [-4.16329787]\n",
      " [ 3.30478723]]\n"
     ]
    }
   ],
   "source": [
    "# Residuals\n",
    "\n",
    "residue=Y-y_pred1          # compute error or residuals\n",
    "print(residue)             # printing all the errors"
   ]
  },
  {
   "cell_type": "code",
   "execution_count": 10,
   "metadata": {},
   "outputs": [
    {
     "name": "stdout",
     "output_type": "stream",
     "text": [
      "sum of residue= [1.42108547e-14]\n"
     ]
    }
   ],
   "source": [
    "print('sum of residue=',sum(residue))   #almost zero"
   ]
  },
  {
   "cell_type": "code",
   "execution_count": 11,
   "metadata": {},
   "outputs": [
    {
     "name": "stdout",
     "output_type": "stream",
     "text": [
      "RMSE=  [4.72311541]\n"
     ]
    }
   ],
   "source": [
    "rmse = np.sqrt(sum(residue**2)/m)\n",
    "print(\"RMSE= \",rmse)"
   ]
  },
  {
   "cell_type": "code",
   "execution_count": 12,
   "metadata": {},
   "outputs": [
    {
     "data": {
      "text/plain": [
       "<matplotlib.collections.PathCollection at 0x2b7b7d12710>"
      ]
     },
     "execution_count": 12,
     "metadata": {},
     "output_type": "execute_result"
    },
    {
     "data": {
      "image/png": "[encoded data removed]",
      "text/plain": [
       "<Figure size 432x288 with 1 Axes>"
      ]
     },
     "metadata": {
      "needs_background": "light"
     },
     "output_type": "display_data"
    }
   ],
   "source": [
    "plt.scatter(X,residue,color='red')"
   ]
  },
  {
   "cell_type": "code",
   "execution_count": 13,
   "metadata": {},
   "outputs": [
    {
     "name": "stdout",
     "output_type": "stream",
     "text": [
      "Coefficient of Determination, R2 = [0.95305989]\n"
     ]
    }
   ],
   "source": [
    "# R2 Measure\n",
    "\n",
    "R2 = 1- sum(residue**2)/sum((Y-y_mean)**2)\n",
    "print('Coefficient of Determination, R2 =', R2)"
   ]
  },
  {
   "cell_type": "markdown",
   "metadata": {},
   "source": [
    "### Using Sklearn Library"
   ]
  },
  {
   "cell_type": "markdown",
   "metadata": {},
   "source": [
    "The file headbrain.csv explains brain weight of a child based on Gender, Age and Head Size. It has four attributes: \n",
    "- Gender: takes two values 1 and 2 indicating Male and Female respectively.\n",
    "- Age Range: takes two values 1 and 2 for each Gender.\n",
    "- Head Size: is in cubic centimeters and takes discrete values.\n",
    "- Brain Weight: is in Grams and takes discrete values.\n",
    "\n",
    "For the current case-study, use Head Size as independent variable and Brain Weight as dependent variable. Fit a simple linear regression model. Also, predict the Brain Weight of a baby when Head Size is taken as user input."
   ]
  },
  {
   "cell_type": "code",
   "execution_count": 14,
   "metadata": {},
   "outputs": [],
   "source": [
    "import numpy as np\n",
    "import pandas as pd\n",
    "from sklearn.linear_model import LinearRegression\n",
    "from sklearn.metrics import mean_squared_error\n",
    "from matplotlib import pyplot as plt"
   ]
  },
  {
   "cell_type": "code",
   "execution_count": 16,
   "metadata": {},
   "outputs": [
    {
     "data": {
      "text/html": [
       "<div>\n",
       "<style scoped>\n",
       "    .dataframe tbody tr th:only-of-type {\n",
       "        vertical-align: middle;\n",
       "    }\n",
       "\n",
       "    .dataframe tbody tr th {\n",
       "        vertical-align: top;\n",
       "    }\n",
       "\n",
       "    .dataframe thead th {\n",
       "        text-align: right;\n",
       "    }\n",
       "</style>\n",
       "<table border=\"1\" class=\"dataframe\">\n",
       "  <thead>\n",
       "    <tr style=\"text-align: right;\">\n",
       "      <th></th>\n",
       "      <th>Gender</th>\n",
       "      <th>Age Range</th>\n",
       "      <th>Head Size(cm^3)</th>\n",
       "      <th>Brain Weight(grams)</th>\n",
       "    </tr>\n",
       "  </thead>\n",
       "  <tbody>\n",
       "    <tr>\n",
       "      <th>0</th>\n",
       "      <td>1</td>\n",
       "      <td>1</td>\n",
       "      <td>4512</td>\n",
       "      <td>1530</td>\n",
       "    </tr>\n",
       "    <tr>\n",
       "      <th>1</th>\n",
       "      <td>1</td>\n",
       "      <td>1</td>\n",
       "      <td>3738</td>\n",
       "      <td>1297</td>\n",
       "    </tr>\n",
       "    <tr>\n",
       "      <th>2</th>\n",
       "      <td>1</td>\n",
       "      <td>1</td>\n",
       "      <td>4261</td>\n",
       "      <td>1335</td>\n",
       "    </tr>\n",
       "    <tr>\n",
       "      <th>3</th>\n",
       "      <td>1</td>\n",
       "      <td>1</td>\n",
       "      <td>3777</td>\n",
       "      <td>1282</td>\n",
       "    </tr>\n",
       "    <tr>\n",
       "      <th>4</th>\n",
       "      <td>1</td>\n",
       "      <td>1</td>\n",
       "      <td>4177</td>\n",
       "      <td>1590</td>\n",
       "    </tr>\n",
       "  </tbody>\n",
       "</table>\n",
       "</div>"
      ],
      "text/plain": [
       "   Gender  Age Range  Head Size(cm^3)  Brain Weight(grams)\n",
       "0       1          1             4512                 1530\n",
       "1       1          1             3738                 1297\n",
       "2       1          1             4261                 1335\n",
       "3       1          1             3777                 1282\n",
       "4       1          1             4177                 1590"
      ]
     },
     "execution_count": 16,
     "metadata": {},
     "output_type": "execute_result"
    }
   ],
   "source": [
    "# Reading Data\n",
    "data = pd.read_csv('headbrain.csv')\n",
    "data.head()"
   ]
  },
  {
   "cell_type": "code",
   "execution_count": 17,
   "metadata": {},
   "outputs": [
    {
     "name": "stdout",
     "output_type": "stream",
     "text": [
      "[4512 3738 4261 3777 4177 3585 3785 3559 3613 3982 3443 3993 3640 4208\n",
      " 3832 3876 3497 3466 3095 4424 3878 4046 3804 3710 4747 4423 4036 4022\n",
      " 3454 4175 3787 3796 4103 4161 4158 3814 3527 3748 3334 3492 3962 3505\n",
      " 4315 3804 3863 4034 4308 3165 3641 3644 3891 3793 4270 4063 4012 3458\n",
      " 3890 4166 3935 3669 3866 3393 4442 4253 3727 3329 3415 3372 4430 4381\n",
      " 4008 3858 4121 4057 3824 3394 3558 3362 3930 3835 3830 3856 3249 3577\n",
      " 3933 3850 3309 3406 3506 3907 4160 3318 3662 3899 3700 3779 3473 3490\n",
      " 3654 3478 3495 3834 3876 3661 3618 3648 4032 3399 3916 4430 3695 3524\n",
      " 3571 3594 3383 3499 3589 3900 4114 3937 3399 4200 4488 3614 4051 3782\n",
      " 3391 3124 4053 3582 3666 3532 4046 3667 2857 3436 3791 3302 3104 3171\n",
      " 3572 3530 3175 3438 3903 3899 3401 3267 3451 3090 3413 3323 3680 3439\n",
      " 3853 3156 3279 3707 4006 3269 3071 3779 3548 3292 3497 3082 3248 3358\n",
      " 3803 3566 3145 3503 3571 3724 3615 3203 3609 3561 3979 3533 3689 3158\n",
      " 4005 3181 3479 3642 3632 3069 3394 3703 3165 3354 3000 3687 3556 2773\n",
      " 3058 3344 3493 3297 3360 3228 3277 3851 3067 3692 3402 3995 3318 2720\n",
      " 2937 3580 2939 2989 3586 3156 3246 3170 3268 3389 3381 2864 3740 3479\n",
      " 3647 3716 3284 4204 3735 3218 3685 3704 3214 3394 3233 3352 3391]\n"
     ]
    }
   ],
   "source": [
    "# Collecting X and Y\n",
    "X = data['Head Size(cm^3)'].values         # independent variable\n",
    "Y = data['Brain Weight(grams)'].values     # dependent variable\n",
    "print(X)"
   ]
  },
  {
   "cell_type": "code",
   "execution_count": 18,
   "metadata": {},
   "outputs": [],
   "source": [
    "m = len(X)\n",
    "X = X.reshape((m, 1))\n",
    "\n",
    "# Model Intialization\n",
    "reg = LinearRegression()\n",
    "\n",
    "# Data Fitting\n",
    "reg = reg.fit(X, Y)"
   ]
  },
  {
   "cell_type": "code",
   "execution_count": 20,
   "metadata": {},
   "outputs": [
    {
     "name": "stdout",
     "output_type": "stream",
     "text": [
      "a1 =  [0.26342934]\n",
      "a0 =  325.5734210494426\n"
     ]
    }
   ],
   "source": [
    "print(\"a1 = \", reg.coef_)        # a1\n",
    "print(\"a0 = \", reg.intercept_)   # a0"
   ]
  },
  {
   "cell_type": "code",
   "execution_count": 21,
   "metadata": {},
   "outputs": [
    {
     "data": {
      "text/plain": [
       "[<matplotlib.lines.Line2D at 0x2b7c107d470>]"
      ]
     },
     "execution_count": 21,
     "metadata": {},
     "output_type": "execute_result"
    },
    {
     "data": {
      "image/png": "[encoded data removed]",
      "text/plain": [
       "<Figure size 432x288 with 1 Axes>"
      ]
     },
     "metadata": {
      "needs_background": "light"
     },
     "output_type": "display_data"
    }
   ],
   "source": [
    "# Model is Y = 325.5734 + 0.2634*X\n",
    "# Y Prediction\n",
    "\n",
    "Y_pred = reg.predict(X)\n",
    "plt.scatter(X,Y, color='red')\n",
    "plt.plot(X, Y_pred, color = 'blue')"
   ]
  },
  {
   "cell_type": "code",
   "execution_count": 22,
   "metadata": {},
   "outputs": [
    {
     "name": "stdout",
     "output_type": "stream",
     "text": [
      "RMSE =  72.1206213783709\n",
      "R2 Score= 0.639311719957\n"
     ]
    }
   ],
   "source": [
    "# Model Evaluation\n",
    "from sklearn.metrics import r2_score\n",
    "rmse = np.sqrt(mean_squared_error(Y, Y_pred))\n",
    "r2 = r2_score(Y, Y_pred)    #built-in function score() indicates R-squared value\n",
    "\n",
    "print(\"RMSE = \", rmse)\n",
    "print(\"R2 Score=\", r2)"
   ]
  },
  {
   "cell_type": "markdown",
   "metadata": {},
   "source": [
    "In this case, R-Square is 63.9%. This means, 63.9% of variance in brain_weight\n",
    "is explained by head-size. \n",
    "In other words, if you know head-size of a baby, you will have 63.9% information to make an accurate prediction about its brain-weight."
   ]
  },
  {
   "cell_type": "code",
   "execution_count": 23,
   "metadata": {},
   "outputs": [
    {
     "name": "stdout",
     "output_type": "stream",
     "text": [
      "Enter the head-size: 3653\n",
      "The estimted brain-weight is:  [1287.8807982]\n"
     ]
    }
   ],
   "source": [
    "# Compute brain-weight of a child, whose head size is read as user-input\n",
    "\n",
    "user_input = [[int(input(\"Enter the head-size: \"))]]\n",
    "print(\"The estimted brain-weight is: \", reg.predict(user_input))"
   ]
  },
  {
   "cell_type": "markdown",
   "metadata": {},
   "source": [
    "### Second DataSet"
   ]
  },
  {
   "cell_type": "markdown",
   "metadata": {},
   "source": [
    "The file salary_data.csv explains Salary of an individual based on Years of Experience. \n",
    "\n",
    "Split the dataset into Train Set and Test Set.\n",
    "Fit a simple linear regression model. \n",
    "Compute RMSE and R-Square values for predicted values from Test Set."
   ]
  },
  {
   "cell_type": "code",
   "execution_count": 24,
   "metadata": {},
   "outputs": [],
   "source": [
    "# import libraries\n",
    "import numpy as np\n",
    "import matplotlib.pyplot as plt\n",
    "import pandas as pd\n",
    "from sklearn.model_selection import train_test_split  #for splitting the dataset  sklearn.cross_validation is deprecated\n",
    "from sklearn.linear_model import LinearRegression   #for linear regression"
   ]
  },
  {
   "cell_type": "code",
   "execution_count": 25,
   "metadata": {},
   "outputs": [
    {
     "data": {
      "text/html": [
       "<div>\n",
       "<style scoped>\n",
       "    .dataframe tbody tr th:only-of-type {\n",
       "        vertical-align: middle;\n",
       "    }\n",
       "\n",
       "    .dataframe tbody tr th {\n",
       "        vertical-align: top;\n",
       "    }\n",
       "\n",
       "    .dataframe thead th {\n",
       "        text-align: right;\n",
       "    }\n",
       "</style>\n",
       "<table border=\"1\" class=\"dataframe\">\n",
       "  <thead>\n",
       "    <tr style=\"text-align: right;\">\n",
       "      <th></th>\n",
       "      <th>YearsExperience</th>\n",
       "      <th>Salary</th>\n",
       "    </tr>\n",
       "  </thead>\n",
       "  <tbody>\n",
       "    <tr>\n",
       "      <th>0</th>\n",
       "      <td>1.1</td>\n",
       "      <td>39343.0</td>\n",
       "    </tr>\n",
       "    <tr>\n",
       "      <th>1</th>\n",
       "      <td>1.3</td>\n",
       "      <td>46205.0</td>\n",
       "    </tr>\n",
       "    <tr>\n",
       "      <th>2</th>\n",
       "      <td>1.5</td>\n",
       "      <td>37731.0</td>\n",
       "    </tr>\n",
       "    <tr>\n",
       "      <th>3</th>\n",
       "      <td>2.0</td>\n",
       "      <td>43525.0</td>\n",
       "    </tr>\n",
       "    <tr>\n",
       "      <th>4</th>\n",
       "      <td>2.2</td>\n",
       "      <td>39891.0</td>\n",
       "    </tr>\n",
       "  </tbody>\n",
       "</table>\n",
       "</div>"
      ],
      "text/plain": [
       "   YearsExperience   Salary\n",
       "0              1.1  39343.0\n",
       "1              1.3  46205.0\n",
       "2              1.5  37731.0\n",
       "3              2.0  43525.0\n",
       "4              2.2  39891.0"
      ]
     },
     "execution_count": 25,
     "metadata": {},
     "output_type": "execute_result"
    }
   ],
   "source": [
    "#import dataset\n",
    "dataset = pd.read_csv(\"Salary_Data.csv\")\n",
    "dataset.head()"
   ]
  },
  {
   "cell_type": "code",
   "execution_count": 26,
   "metadata": {},
   "outputs": [
    {
     "data": {
      "text/plain": [
       "(30, 1)"
      ]
     },
     "execution_count": 26,
     "metadata": {},
     "output_type": "execute_result"
    }
   ],
   "source": [
    "x = dataset.iloc[:,:-1].values   #integer-location based indexing\n",
    "y = dataset.iloc[:,-1].values\n",
    "#print(x)\n",
    "x.shape"
   ]
  },
  {
   "cell_type": "markdown",
   "metadata": {},
   "source": [
    "The value of random_state parameter can be omitted. If we do not use that parameter, for every run of the code, we will get different train and test sets randomly. So, if we need to do multiple trials on the same data, we may not be able to do comparison. So, it is better to set it to some value.\n",
    "\n",
    "Setting random_state a fixed value will guarantee that same sequence of random numbers are generated each time you run the code. And unless there is some other randomness present in the process, the results produced will be same as always. This helps in verifying the output.\n",
    "\n",
    "In practice, one should set the random_state to some fixed number during testing phase. But then remove it in production if you really need a random (and not a fixed) split."
   ]
  },
  {
   "cell_type": "code",
   "execution_count": 27,
   "metadata": {},
   "outputs": [
    {
     "data": {
      "text/plain": [
       "array([[ 9.6],\n",
       "       [ 4. ],\n",
       "       [ 5.3],\n",
       "       [ 7.9],\n",
       "       [ 2.9],\n",
       "       [ 5.1],\n",
       "       [ 3.2],\n",
       "       [ 4.5],\n",
       "       [ 8.2],\n",
       "       [ 6.8],\n",
       "       [ 1.3],\n",
       "       [10.5],\n",
       "       [ 3. ],\n",
       "       [ 2.2],\n",
       "       [ 5.9],\n",
       "       [ 6. ],\n",
       "       [ 3.7],\n",
       "       [ 3.2],\n",
       "       [ 9. ],\n",
       "       [ 2. ],\n",
       "       [ 1.1],\n",
       "       [ 7.1],\n",
       "       [ 4.9],\n",
       "       [ 4. ]])"
      ]
     },
     "execution_count": 27,
     "metadata": {},
     "output_type": "execute_result"
    }
   ],
   "source": [
    "#splitting dataset \n",
    "x_train,x_test,y_train,y_test = train_test_split(x,y,test_size = 0.2, random_state = 0)\n",
    "x_train"
   ]
  },
  {
   "cell_type": "code",
   "execution_count": 28,
   "metadata": {},
   "outputs": [
    {
     "data": {
      "text/plain": [
       "LinearRegression(copy_X=True, fit_intercept=True, n_jobs=None, normalize=False)"
      ]
     },
     "execution_count": 28,
     "metadata": {},
     "output_type": "execute_result"
    }
   ],
   "source": [
    "#fitting simple linear regression to the training set\n",
    "regressor = LinearRegression()     #creating an object of the type LinearRegression\n",
    "regressor.fit(x_train,y_train)    #we should fit the regressor to the training set"
   ]
  },
  {
   "cell_type": "code",
   "execution_count": 29,
   "metadata": {},
   "outputs": [
    {
     "name": "stdout",
     "output_type": "stream",
     "text": [
      "a1= [9312.57512673]\n",
      "a0= 26780.09915062818\n"
     ]
    }
   ],
   "source": [
    "print(\"a1=\",regressor.coef_)\n",
    "print(\"a0=\",regressor.intercept_)"
   ]
  },
  {
   "cell_type": "code",
   "execution_count": 30,
   "metadata": {},
   "outputs": [
    {
     "name": "stdout",
     "output_type": "stream",
     "text": [
      "[ 40748.96184072 122699.62295594  64961.65717022  63099.14214487\n",
      " 115249.56285456 107799.50275317]\n"
     ]
    }
   ],
   "source": [
    "#predicting the values for the test set\n",
    "y_pred = regressor.predict(x_test)# this is prediciting the values for the xtest\n",
    "print(y_pred)"
   ]
  },
  {
   "cell_type": "code",
   "execution_count": 31,
   "metadata": {},
   "outputs": [
    {
     "data": {
      "image/png": "[encoded data removed]",
      "text/plain": [
       "<Figure size 432x288 with 1 Axes>"
      ]
     },
     "metadata": {
      "needs_background": "light"
     },
     "output_type": "display_data"
    }
   ],
   "source": [
    "#visualizing the training set results\n",
    "plt.scatter(x_train,y_train,color='red') #this is the actual data\n",
    "plt.plot(x_train,regressor.predict(x_train),color='blue') #this is the plot that our algorithm has predicted\n",
    "plt.title('Experience v/s salary (Training set)')\n",
    "plt.xlabel('Experience')\n",
    "plt.ylabel('Salary')\n",
    "plt.show() #this is to indicate the end of the plotting and we are ready to plot"
   ]
  },
  {
   "cell_type": "code",
   "execution_count": 32,
   "metadata": {},
   "outputs": [],
   "source": [
    "# Compute RMSE and R2 measure\n",
    "\n",
    "from sklearn.metrics import r2_score, mean_squared_error"
   ]
  },
  {
   "cell_type": "code",
   "execution_count": 33,
   "metadata": {},
   "outputs": [
    {
     "name": "stdout",
     "output_type": "stream",
     "text": [
      "RMSE= 3580.979237321343\n"
     ]
    }
   ],
   "source": [
    "rmse= np.sqrt(mean_squared_error(y_test,y_pred))\n",
    "print('RMSE=',rmse)"
   ]
  },
  {
   "cell_type": "code",
   "execution_count": 34,
   "metadata": {},
   "outputs": [
    {
     "name": "stdout",
     "output_type": "stream",
     "text": [
      "Regressor Score is  =  0.988169515729126\n"
     ]
    }
   ],
   "source": [
    "r2=r2_score(y_test,y_pred)\n",
    "print('Regressor Score is  = ',r2)"
   ]
  },
  {
   "cell_type": "markdown",
   "metadata": {},
   "source": [
    "In this case, R-Square is 98.8% (This value may differ from person to person, as test and train sets are randomly generated). This means, 98.8% of variance in Salary is explained by Years_of_Experience. In other words, if you know Years_of_Experience of an individual, you will have 98.8% information to make an accurate prediction about his/her Salary."
   ]
  },
  {
   "cell_type": "code",
   "execution_count": 35,
   "metadata": {},
   "outputs": [
    {
     "data": {
      "text/plain": [
       "Text(0.5, 1.0, 'Residual plot')"
      ]
     },
     "execution_count": 35,
     "metadata": {},
     "output_type": "execute_result"
    },
    {
     "data": {
      "image/png": "[encoded data removed]",
      "text/plain": [
       "<Figure size 432x288 with 1 Axes>"
      ]
     },
     "metadata": {
      "needs_background": "light"
     },
     "output_type": "display_data"
    }
   ],
   "source": [
    "x_plot = plt.scatter(y_pred, (y_pred - y_test), c='b')\n",
    "\n",
    "plt.hlines(y=0, xmin= -10000, xmax=1200000)\n",
    "\n",
    "plt.title('Residual plot')"
   ]
  },
  {
   "cell_type": "code",
   "execution_count": 36,
   "metadata": {},
   "outputs": [
    {
     "name": "stdout",
     "output_type": "stream",
     "text": [
      "Enter the years of expereince: 5\n",
      "The estimted salary is:  [73342.97478427]\n"
     ]
    }
   ],
   "source": [
    "user_input = [[int(input(\"Enter the years of expereince: \"))]]\n",
    "print(\"The estimted salary is: \", regressor.predict(user_input))"
   ]
  },
  {
   "cell_type": "code",
   "execution_count": null,
   "metadata": {},
   "outputs": [],
   "source": []
  }
 ],
 "metadata": {
  "kernelspec": {
   "display_name": "Python 3",
   "language": "python",
   "name": "python3"
  },
  "language_info": {
   "codemirror_mode": {
    "name": "ipython",
    "version": 3
   },
   "file_extension": ".py",
   "mimetype": "text/x-python",
   "name": "python",
   "nbconvert_exporter": "python",
   "pygments_lexer": "ipython3",
   "version": "3.7.1"
  }
 },
 "nbformat": 4,
 "nbformat_minor": 2
}
