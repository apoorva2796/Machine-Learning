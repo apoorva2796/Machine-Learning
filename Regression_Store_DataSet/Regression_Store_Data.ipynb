{
 "cells": [
  {
   "cell_type": "code",
   "execution_count": 1,
   "metadata": {},
   "outputs": [],
   "source": [
    "# Libraries \n",
    "import numpy as np\n",
    "import pandas as pd\n",
    "import matplotlib.pyplot as plt\n",
    "%matplotlib inline\n",
    "\n",
    "# Library for linear regression\n",
    "from sklearn.linear_model import LinearRegression\n",
    "from sklearn.model_selection import train_test_split\n",
    "from sklearn.metrics import r2_score, mean_squared_error\n",
    "\n",
    "import os\n",
    "path = 'D:\\Term 2\\Machine Learning'\n",
    "os.chdir(path)"
   ]
  },
  {
   "cell_type": "code",
   "execution_count": 2,
   "metadata": {},
   "outputs": [],
   "source": [
    "## Importing the train and test dataset\n",
    "\n",
    "train = pd.read_csv(\"Train.csv\")\n",
    "test = pd.read_csv(\"test.csv\")"
   ]
  },
  {
   "cell_type": "code",
   "execution_count": 3,
   "metadata": {},
   "outputs": [
    {
     "data": {
      "text/plain": [
       "Item_Identifier               0.00\n",
       "Item_Weight                  17.17\n",
       "Item_Fat_Content              0.00\n",
       "Item_Visibility               0.00\n",
       "Item_Type                     0.00\n",
       "Item_MRP                      0.00\n",
       "Outlet_Identifier             0.00\n",
       "Outlet_Establishment_Year     0.00\n",
       "Outlet_Size                  28.28\n",
       "Outlet_Location_Type          0.00\n",
       "Outlet_Type                   0.00\n",
       "Item_Outlet_Sales             0.00\n",
       "dtype: float64"
      ]
     },
     "execution_count": 3,
     "metadata": {},
     "output_type": "execute_result"
    }
   ],
   "source": [
    "#calculating percentage of null value for each columns\n",
    "round((train.isnull().sum() / len(train) * 100 ),2)"
   ]
  },
  {
   "cell_type": "markdown",
   "metadata": {},
   "source": [
    "* Column \"Item_Weight\" and \"Outlet_Size\" has missing value more than 15% and total data having almost 45% of missing value.\n",
    "* But we will not go for dropping those two columns because their might be chance that this two columns can be perdictor variable which high significant."
   ]
  },
  {
   "cell_type": "markdown",
   "metadata": {},
   "source": [
    "Assumption of Linear regression:\n",
    "    * Linear relationship\n",
    "    * Multivariate normality, etc"
   ]
  },
  {
   "cell_type": "markdown",
   "metadata": {},
   "source": [
    "* To check the data provided is normal distributed or not\n",
    "* We will plot a histogram and see"
   ]
  },
  {
   "cell_type": "code",
   "execution_count": 4,
   "metadata": {},
   "outputs": [
    {
     "data": {
      "image/png": "[encoded data removed]",
      "text/plain": [
       "<Figure size 432x288 with 1 Axes>"
      ]
     },
     "metadata": {
      "needs_background": "light"
     },
     "output_type": "display_data"
    }
   ],
   "source": [
    "train.Item_Outlet_Sales.plot(kind=\"hist\")\n",
    "plt.show()"
   ]
  },
  {
   "cell_type": "code",
   "execution_count": 5,
   "metadata": {},
   "outputs": [
    {
     "data": {
      "text/plain": [
       "1.1775306028542798"
      ]
     },
     "execution_count": 5,
     "metadata": {},
     "output_type": "execute_result"
    }
   ],
   "source": [
    "#check the skewness of dependent variable\n",
    "train.Item_Outlet_Sales.skew()"
   ]
  },
  {
   "cell_type": "markdown",
   "metadata": {},
   "source": [
    "   * As the above value is greater than 1, that means data is positively skewed\n",
    "   * We need to go for the square root or log transformation"
   ]
  },
  {
   "cell_type": "code",
   "execution_count": 6,
   "metadata": {},
   "outputs": [
    {
     "data": {
      "image/png": "[encoded data removed]",
      "text/plain": [
       "<Figure size 432x288 with 1 Axes>"
      ]
     },
     "metadata": {
      "needs_background": "light"
     },
     "output_type": "display_data"
    }
   ],
   "source": [
    "## Using Log transformation\n",
    "\n",
    "np.log(train.Item_Outlet_Sales).plot(kind=\"hist\")\n",
    "plt.show()"
   ]
  },
  {
   "cell_type": "code",
   "execution_count": 7,
   "metadata": {},
   "outputs": [
    {
     "data": {
      "image/png": "[encoded data removed]",
      "text/plain": [
       "<Figure size 432x288 with 1 Axes>"
      ]
     },
     "metadata": {
      "needs_background": "light"
     },
     "output_type": "display_data"
    }
   ],
   "source": [
    "## Using Square root transformation\n",
    "\n",
    "np.sqrt(train.Item_Outlet_Sales).plot(kind=\"hist\")\n",
    "plt.show()"
   ]
  },
  {
   "cell_type": "markdown",
   "metadata": {},
   "source": [
    "    * After log transformation, data become somewhat negative skewed\n",
    "    * After square root transformation, data became somewhat normal"
   ]
  },
  {
   "cell_type": "code",
   "execution_count": 8,
   "metadata": {},
   "outputs": [],
   "source": [
    "# we are dropping the column \"Item_Identifier\" though it will not take any part of predicting sales\n",
    "# drop column Outlet_Identifier for above reason\n",
    "\n",
    "train.drop(\"Item_Identifier\", axis=1, inplace=True)\n",
    "train.drop(\"Outlet_Identifier\", axis=1, inplace=True)"
   ]
  },
  {
   "cell_type": "code",
   "execution_count": 9,
   "metadata": {},
   "outputs": [
    {
     "name": "stderr",
     "output_type": "stream",
     "text": [
      "C:\\ProgramData\\Anaconda3\\lib\\site-packages\\missingpy\\knnimpute.py:224: UserWarning: There are rows with more than 50.0% missing values. These rows are not included as donor neighbors.\n",
      "  .format(self.row_max_missing * 100))\n",
      "C:\\ProgramData\\Anaconda3\\lib\\site-packages\\missingpy\\knnimpute.py:282: UserWarning: There are rows with more than 50.0% missing values. The missing features in these rows are imputed with column means.\n",
      "  .format(self.row_max_missing * 100))\n"
     ]
    }
   ],
   "source": [
    "# Imputing the missing value use kNN\n",
    "\n",
    "from missingpy import KNNImputer\n",
    "\n",
    "# Creating the KNN imputation object\n",
    "imputer = KNNImputer(missing_values= \"NaN\", n_neighbors= 2, metric=\"masked_euclidean\", weights=\"distance\")\n",
    "\n",
    "# Applying the imputation object on the column where we want to impute the value\n",
    "train[\"Item_Weight\"] = imputer.fit_transform(train[[\"Item_Weight\"]])"
   ]
  },
  {
   "cell_type": "code",
   "execution_count": 10,
   "metadata": {},
   "outputs": [
    {
     "data": {
      "text/plain": [
       "0"
      ]
     },
     "execution_count": 10,
     "metadata": {},
     "output_type": "execute_result"
    }
   ],
   "source": [
    "train.Item_Weight.isnull().sum()"
   ]
  },
  {
   "cell_type": "markdown",
   "metadata": {},
   "source": [
    "In column \"Item_Fat_Content\" check frequency of each category\n",
    "* Actually there is 2 category only \"low fat\" and \"regular\"\n",
    "* Replace \"Low Fat, low fat, LF\" in single 1 and \"Regular, reg\" in 2 class"
   ]
  },
  {
   "cell_type": "code",
   "execution_count": 11,
   "metadata": {},
   "outputs": [],
   "source": [
    "def Item_Fat_Content(value):\n",
    "    if value == 'Low Fat' or value == 'LF' or value == 'low fat':\n",
    "        num = 1\n",
    "    elif value == 'Regular' or value == 'reg':\n",
    "        num = 2\n",
    "    return num\n",
    "\n",
    "train['Item_Fat_Content_Num'] = train['Item_Fat_Content'].apply(Item_Fat_Content)"
   ]
  },
  {
   "cell_type": "markdown",
   "metadata": {},
   "source": [
    "Lets derive Item_Type into numerical category"
   ]
  },
  {
   "cell_type": "code",
   "execution_count": 12,
   "metadata": {},
   "outputs": [],
   "source": [
    "def Item_Type(value):\n",
    "    if value == 'Dairy':\n",
    "        num = 1\n",
    "    elif value == 'Soft Drinks':\n",
    "        num = 2\n",
    "    elif value == 'Meat':\n",
    "        num = 3\n",
    "    elif value == 'Fruits and Vegetables':\n",
    "        num = 4\n",
    "    elif value == 'Household':\n",
    "        num = 5\n",
    "    elif value == 'Baking Goods':\n",
    "        num = 6\n",
    "    elif value == 'Snack Foods':\n",
    "        num = 7\n",
    "    elif value == 'Frozen Foods':\n",
    "        num = 8\n",
    "    elif value == 'Breakfast':\n",
    "        num = 9\n",
    "    elif value == 'Health and Hygiene':\n",
    "        num = 10\n",
    "    elif value == 'Hard Drinks':\n",
    "        num = 11\n",
    "    elif value == 'Canned':\n",
    "        num = 12\n",
    "    elif value == 'Breads':\n",
    "        num = 13\n",
    "    elif value == 'Starchy Foods':\n",
    "        num = 14\n",
    "    elif value == 'Others':\n",
    "        num = 15\n",
    "    elif value == 'Seafood':\n",
    "        num = 16\n",
    "    return num\n",
    "\n",
    "train['Item_Type_Num'] = train['Item_Type'].apply(Item_Type)"
   ]
  },
  {
   "cell_type": "markdown",
   "metadata": {},
   "source": [
    "Converting Outlet_size into numerical"
   ]
  },
  {
   "cell_type": "code",
   "execution_count": 13,
   "metadata": {},
   "outputs": [
    {
     "data": {
      "text/plain": [
       "0"
      ]
     },
     "execution_count": 13,
     "metadata": {},
     "output_type": "execute_result"
    }
   ],
   "source": [
    "#replace \"NaN\" with \"small\"\n",
    "train[\"Outlet_Size\"] = train[\"Outlet_Size\"].replace({np.nan:\"Small\"})\n",
    "# Lets check again \"Outtlet_Size\" column\n",
    "train.Outlet_Size.isnull().sum()"
   ]
  },
  {
   "cell_type": "code",
   "execution_count": 14,
   "metadata": {},
   "outputs": [],
   "source": [
    "def Outlet_Size(value):\n",
    "    if value == 'Medium':\n",
    "        num = 2\n",
    "    elif value == 'High':\n",
    "        num = 3\n",
    "    elif value == 'Small':\n",
    "        num = 1\n",
    "    return num\n",
    "\n",
    "train['Outlet_Size_Num'] = train['Outlet_Size'].apply(Outlet_Size)"
   ]
  },
  {
   "cell_type": "markdown",
   "metadata": {},
   "source": [
    "Converting Outlet_Type into numerical"
   ]
  },
  {
   "cell_type": "code",
   "execution_count": 15,
   "metadata": {},
   "outputs": [],
   "source": [
    "def Outlet_Type(value):\n",
    "    if value == 'Supermarket Type1':\n",
    "        num = 1\n",
    "    elif value == 'Supermarket Type2':\n",
    "        num = 2\n",
    "    elif value == 'Supermarket Type3':\n",
    "        num = 3\n",
    "    elif value == 'Grocery Store':\n",
    "        num = 4\n",
    "    return num\n",
    "\n",
    "train['Outlet_Type_Num'] = train['Outlet_Type'].apply(Outlet_Type)"
   ]
  },
  {
   "cell_type": "markdown",
   "metadata": {},
   "source": [
    "Converting Outlet_Location_type into numerical"
   ]
  },
  {
   "cell_type": "code",
   "execution_count": 16,
   "metadata": {},
   "outputs": [],
   "source": [
    "def Outlet_Location_Type(value):\n",
    "    if value == 'Tier 1':\n",
    "        num = 1\n",
    "    elif value == 'Tier 2':\n",
    "        num = 2\n",
    "    elif value == 'Tier 3':\n",
    "        num = 3\n",
    "    return num\n",
    "\n",
    "train['Outlet_Location_Type_Num'] = train['Outlet_Location_Type'].apply(Outlet_Location_Type)"
   ]
  },
  {
   "cell_type": "code",
   "execution_count": 17,
   "metadata": {},
   "outputs": [
    {
     "data": {
      "text/plain": [
       "Item_Weight                  0\n",
       "Item_Fat_Content             0\n",
       "Item_Visibility              0\n",
       "Item_Type                    0\n",
       "Item_MRP                     0\n",
       "Outlet_Establishment_Year    0\n",
       "Outlet_Size                  0\n",
       "Outlet_Location_Type         0\n",
       "Outlet_Type                  0\n",
       "Item_Outlet_Sales            0\n",
       "Item_Fat_Content_Num         0\n",
       "Item_Type_Num                0\n",
       "Outlet_Size_Num              0\n",
       "Outlet_Type_Num              0\n",
       "Outlet_Location_Type_Num     0\n",
       "dtype: int64"
      ]
     },
     "execution_count": 17,
     "metadata": {},
     "output_type": "execute_result"
    }
   ],
   "source": [
    "train.isnull().sum()"
   ]
  },
  {
   "cell_type": "markdown",
   "metadata": {},
   "source": [
    "Final Train Dataset is"
   ]
  },
  {
   "cell_type": "code",
   "execution_count": 18,
   "metadata": {},
   "outputs": [
    {
     "data": {
      "text/html": [
       "<div>\n",
       "<style scoped>\n",
       "    .dataframe tbody tr th:only-of-type {\n",
       "        vertical-align: middle;\n",
       "    }\n",
       "\n",
       "    .dataframe tbody tr th {\n",
       "        vertical-align: top;\n",
       "    }\n",
       "\n",
       "    .dataframe thead th {\n",
       "        text-align: right;\n",
       "    }\n",
       "</style>\n",
       "<table border=\"1\" class=\"dataframe\">\n",
       "  <thead>\n",
       "    <tr style=\"text-align: right;\">\n",
       "      <th></th>\n",
       "      <th>Item_Weight</th>\n",
       "      <th>Item_Fat_Content</th>\n",
       "      <th>Item_Visibility</th>\n",
       "      <th>Item_Type</th>\n",
       "      <th>Item_MRP</th>\n",
       "      <th>Outlet_Establishment_Year</th>\n",
       "      <th>Outlet_Size</th>\n",
       "      <th>Outlet_Location_Type</th>\n",
       "      <th>Outlet_Type</th>\n",
       "      <th>Item_Outlet_Sales</th>\n",
       "      <th>Item_Fat_Content_Num</th>\n",
       "      <th>Item_Type_Num</th>\n",
       "      <th>Outlet_Size_Num</th>\n",
       "      <th>Outlet_Type_Num</th>\n",
       "      <th>Outlet_Location_Type_Num</th>\n",
       "    </tr>\n",
       "  </thead>\n",
       "  <tbody>\n",
       "    <tr>\n",
       "      <th>0</th>\n",
       "      <td>9.30</td>\n",
       "      <td>Low Fat</td>\n",
       "      <td>0.016047</td>\n",
       "      <td>Dairy</td>\n",
       "      <td>249.8092</td>\n",
       "      <td>1999</td>\n",
       "      <td>Medium</td>\n",
       "      <td>Tier 1</td>\n",
       "      <td>Supermarket Type1</td>\n",
       "      <td>3735.1380</td>\n",
       "      <td>1</td>\n",
       "      <td>1</td>\n",
       "      <td>2</td>\n",
       "      <td>1</td>\n",
       "      <td>1</td>\n",
       "    </tr>\n",
       "    <tr>\n",
       "      <th>1</th>\n",
       "      <td>5.92</td>\n",
       "      <td>Regular</td>\n",
       "      <td>0.019278</td>\n",
       "      <td>Soft Drinks</td>\n",
       "      <td>48.2692</td>\n",
       "      <td>2009</td>\n",
       "      <td>Medium</td>\n",
       "      <td>Tier 3</td>\n",
       "      <td>Supermarket Type2</td>\n",
       "      <td>443.4228</td>\n",
       "      <td>2</td>\n",
       "      <td>2</td>\n",
       "      <td>2</td>\n",
       "      <td>2</td>\n",
       "      <td>3</td>\n",
       "    </tr>\n",
       "    <tr>\n",
       "      <th>2</th>\n",
       "      <td>17.50</td>\n",
       "      <td>Low Fat</td>\n",
       "      <td>0.016760</td>\n",
       "      <td>Meat</td>\n",
       "      <td>141.6180</td>\n",
       "      <td>1999</td>\n",
       "      <td>Medium</td>\n",
       "      <td>Tier 1</td>\n",
       "      <td>Supermarket Type1</td>\n",
       "      <td>2097.2700</td>\n",
       "      <td>1</td>\n",
       "      <td>3</td>\n",
       "      <td>2</td>\n",
       "      <td>1</td>\n",
       "      <td>1</td>\n",
       "    </tr>\n",
       "    <tr>\n",
       "      <th>3</th>\n",
       "      <td>19.20</td>\n",
       "      <td>Regular</td>\n",
       "      <td>0.000000</td>\n",
       "      <td>Fruits and Vegetables</td>\n",
       "      <td>182.0950</td>\n",
       "      <td>1998</td>\n",
       "      <td>Small</td>\n",
       "      <td>Tier 3</td>\n",
       "      <td>Grocery Store</td>\n",
       "      <td>732.3800</td>\n",
       "      <td>2</td>\n",
       "      <td>4</td>\n",
       "      <td>1</td>\n",
       "      <td>4</td>\n",
       "      <td>3</td>\n",
       "    </tr>\n",
       "    <tr>\n",
       "      <th>4</th>\n",
       "      <td>8.93</td>\n",
       "      <td>Low Fat</td>\n",
       "      <td>0.000000</td>\n",
       "      <td>Household</td>\n",
       "      <td>53.8614</td>\n",
       "      <td>1987</td>\n",
       "      <td>High</td>\n",
       "      <td>Tier 3</td>\n",
       "      <td>Supermarket Type1</td>\n",
       "      <td>994.7052</td>\n",
       "      <td>1</td>\n",
       "      <td>5</td>\n",
       "      <td>3</td>\n",
       "      <td>1</td>\n",
       "      <td>3</td>\n",
       "    </tr>\n",
       "  </tbody>\n",
       "</table>\n",
       "</div>"
      ],
      "text/plain": [
       "   Item_Weight Item_Fat_Content  Item_Visibility              Item_Type  \\\n",
       "0         9.30          Low Fat         0.016047                  Dairy   \n",
       "1         5.92          Regular         0.019278            Soft Drinks   \n",
       "2        17.50          Low Fat         0.016760                   Meat   \n",
       "3        19.20          Regular         0.000000  Fruits and Vegetables   \n",
       "4         8.93          Low Fat         0.000000              Household   \n",
       "\n",
       "   Item_MRP  Outlet_Establishment_Year Outlet_Size Outlet_Location_Type  \\\n",
       "0  249.8092                       1999      Medium               Tier 1   \n",
       "1   48.2692                       2009      Medium               Tier 3   \n",
       "2  141.6180                       1999      Medium               Tier 1   \n",
       "3  182.0950                       1998       Small               Tier 3   \n",
       "4   53.8614                       1987        High               Tier 3   \n",
       "\n",
       "         Outlet_Type  Item_Outlet_Sales  Item_Fat_Content_Num  Item_Type_Num  \\\n",
       "0  Supermarket Type1          3735.1380                     1              1   \n",
       "1  Supermarket Type2           443.4228                     2              2   \n",
       "2  Supermarket Type1          2097.2700                     1              3   \n",
       "3      Grocery Store           732.3800                     2              4   \n",
       "4  Supermarket Type1           994.7052                     1              5   \n",
       "\n",
       "   Outlet_Size_Num  Outlet_Type_Num  Outlet_Location_Type_Num  \n",
       "0                2                1                         1  \n",
       "1                2                2                         3  \n",
       "2                2                1                         1  \n",
       "3                1                4                         3  \n",
       "4                3                1                         3  "
      ]
     },
     "execution_count": 18,
     "metadata": {},
     "output_type": "execute_result"
    }
   ],
   "source": [
    "final = train\n",
    "final.head()"
   ]
  },
  {
   "cell_type": "markdown",
   "metadata": {},
   "source": [
    "## Starting the build the Linear Regression Model"
   ]
  },
  {
   "cell_type": "markdown",
   "metadata": {},
   "source": [
    "### Step 1:\n",
    "     In this, I am considering the predictors variable are:\n",
    "        - Item_Visibility,\n",
    "        - Item_MRP"
   ]
  },
  {
   "cell_type": "code",
   "execution_count": 19,
   "metadata": {},
   "outputs": [],
   "source": [
    "X = final.loc[:,[\"Item_Visibility\",\"Item_MRP\"]]\n",
    "\n",
    "Y = np.sqrt(final.loc[:,\"Item_Outlet_Sales\"]) #before fitting the model making them normalize"
   ]
  },
  {
   "cell_type": "code",
   "execution_count": 20,
   "metadata": {},
   "outputs": [
    {
     "data": {
      "text/plain": [
       "((6818, 2), (1705, 2), (6818,), (1705,))"
      ]
     },
     "execution_count": 20,
     "metadata": {},
     "output_type": "execute_result"
    }
   ],
   "source": [
    "#split the data into training set and test set\n",
    "\n",
    "X_train, X_test, Y_train, Y_test = train_test_split(X, Y, test_size = 0.2, random_state = 0)\n",
    "\n",
    "X_train.shape, X_test.shape, Y_train.shape, Y_test.shape"
   ]
  },
  {
   "cell_type": "code",
   "execution_count": 21,
   "metadata": {},
   "outputs": [],
   "source": [
    "#create a linear regression object\n",
    "lin_reg = LinearRegression()\n",
    "\n",
    "#fitting the object to our training set\n",
    "lin_reg.fit(X_train, Y_train)\n",
    "\n",
    "#predicting the Y by providing test value\n",
    "y_pred = lin_reg.predict(X_test)"
   ]
  },
  {
   "cell_type": "code",
   "execution_count": 22,
   "metadata": {},
   "outputs": [
    {
     "name": "stdout",
     "output_type": "stream",
     "text": [
      "RMSE:  15.145801178136114\n",
      "R-Squre:  0.33657261372115166\n"
     ]
    }
   ],
   "source": [
    "#calculate mean squre error\n",
    "print(\"RMSE: \",np.sqrt(mean_squared_error(Y_test, y_pred)))\n",
    "\n",
    "#calculate R-Squre value\n",
    "print(\"R-Squre: \",r2_score(Y_test,y_pred))"
   ]
  },
  {
   "cell_type": "code",
   "execution_count": 23,
   "metadata": {},
   "outputs": [
    {
     "data": {
      "text/html": [
       "<div>\n",
       "<style scoped>\n",
       "    .dataframe tbody tr th:only-of-type {\n",
       "        vertical-align: middle;\n",
       "    }\n",
       "\n",
       "    .dataframe tbody tr th {\n",
       "        vertical-align: top;\n",
       "    }\n",
       "\n",
       "    .dataframe thead th {\n",
       "        text-align: right;\n",
       "    }\n",
       "</style>\n",
       "<table border=\"1\" class=\"dataframe\">\n",
       "  <thead>\n",
       "    <tr style=\"text-align: right;\">\n",
       "      <th></th>\n",
       "      <th>Predictors</th>\n",
       "      <th>Co-Efficient</th>\n",
       "    </tr>\n",
       "  </thead>\n",
       "  <tbody>\n",
       "    <tr>\n",
       "      <th>0</th>\n",
       "      <td>Item_Visibility</td>\n",
       "      <td>-56.126000</td>\n",
       "    </tr>\n",
       "    <tr>\n",
       "      <th>1</th>\n",
       "      <td>Item_MRP</td>\n",
       "      <td>0.165671</td>\n",
       "    </tr>\n",
       "  </tbody>\n",
       "</table>\n",
       "</div>"
      ],
      "text/plain": [
       "        Predictors  Co-Efficient\n",
       "0  Item_Visibility    -56.126000\n",
       "1         Item_MRP      0.165671"
      ]
     },
     "execution_count": 23,
     "metadata": {},
     "output_type": "execute_result"
    }
   ],
   "source": [
    "coef = pd.DataFrame(X_train.columns)\n",
    "coef[\"Co-Efficient\"] = pd.Series(lin_reg.coef_.reshape(2,))\n",
    "coef.rename(columns={0:\"Predictors\"})"
   ]
  },
  {
   "cell_type": "markdown",
   "metadata": {},
   "source": [
    "* R-Squre value is 33%, that means 33% varience in Sales is explained by \"Item_Visibility\" and \"Item_MRP\"\n",
    "* If you know these 2 features you can gain 33% info to predict sales accurately"
   ]
  },
  {
   "cell_type": "code",
   "execution_count": 24,
   "metadata": {},
   "outputs": [
    {
     "data": {
      "image/png": "[encoded data removed]",
      "text/plain": [
       "<Figure size 432x288 with 1 Axes>"
      ]
     },
     "metadata": {
      "needs_background": "light"
     },
     "output_type": "display_data"
    }
   ],
   "source": [
    "# Residual Plot to check errors are randomly distributed or not\n",
    "plt.scatter(y_pred, (Y_test - y_pred), color=\"b\")\n",
    "plt.hlines(y=0, xmin=0, xmax=80, color=\"r\", linewidth=1)\n",
    "plt.show()"
   ]
  },
  {
   "cell_type": "markdown",
   "metadata": {},
   "source": [
    "* We can clearly observe that errors are not random that means errors are almost constant in nature\n",
    "* plot looks like little funnel shape due to varience of not constant errors\n",
    "* We have already treated outliers using sqrt tranformation"
   ]
  },
  {
   "cell_type": "markdown",
   "metadata": {},
   "source": [
    "### Step 2:\n",
    "     In this, I am considering the predictors variable are:\n",
    "        - Item_Visibility,\n",
    "        - Item_MRP,\n",
    "        - Item_Weight"
   ]
  },
  {
   "cell_type": "code",
   "execution_count": 25,
   "metadata": {},
   "outputs": [],
   "source": [
    "X = final.loc[:,[\"Item_Weight\",\"Item_Visibility\",\"Item_MRP\"]]\n",
    "\n",
    "Y = np.sqrt(final.loc[:,\"Item_Outlet_Sales\"])"
   ]
  },
  {
   "cell_type": "code",
   "execution_count": 26,
   "metadata": {},
   "outputs": [
    {
     "data": {
      "text/plain": [
       "((6818, 3), (1705, 3), (6818,), (1705,))"
      ]
     },
     "execution_count": 26,
     "metadata": {},
     "output_type": "execute_result"
    }
   ],
   "source": [
    "#split the data into training set and test set\n",
    "\n",
    "X_train, X_test, Y_train, Y_test = train_test_split(X, Y, test_size = 0.2, random_state = 0)\n",
    "\n",
    "X_train.shape, X_test.shape, Y_train.shape, Y_test.shape"
   ]
  },
  {
   "cell_type": "code",
   "execution_count": 27,
   "metadata": {},
   "outputs": [],
   "source": [
    "#create a linear regression object\n",
    "lin_reg = LinearRegression()\n",
    "\n",
    "#fitting the object to our training set\n",
    "lin_reg.fit(X_train, Y_train)\n",
    "\n",
    "#predicting the Y by providing test value\n",
    "y_pred = lin_reg.predict(X_test)"
   ]
  },
  {
   "cell_type": "code",
   "execution_count": 28,
   "metadata": {},
   "outputs": [
    {
     "name": "stdout",
     "output_type": "stream",
     "text": [
      "RMSE:  15.14643248519349\n",
      "R-Squre:  0.3365173066278069\n"
     ]
    }
   ],
   "source": [
    "#calculate mean squre error\n",
    "print(\"RMSE: \",np.sqrt(mean_squared_error(Y_test, y_pred)))\n",
    "\n",
    "#calculate R-Squre value\n",
    "print(\"R-Squre: \",r2_score(Y_test,y_pred))"
   ]
  },
  {
   "cell_type": "code",
   "execution_count": 29,
   "metadata": {},
   "outputs": [
    {
     "data": {
      "text/html": [
       "<div>\n",
       "<style scoped>\n",
       "    .dataframe tbody tr th:only-of-type {\n",
       "        vertical-align: middle;\n",
       "    }\n",
       "\n",
       "    .dataframe tbody tr th {\n",
       "        vertical-align: top;\n",
       "    }\n",
       "\n",
       "    .dataframe thead th {\n",
       "        text-align: right;\n",
       "    }\n",
       "</style>\n",
       "<table border=\"1\" class=\"dataframe\">\n",
       "  <thead>\n",
       "    <tr style=\"text-align: right;\">\n",
       "      <th></th>\n",
       "      <th>Predictors</th>\n",
       "      <th>Co-Efficient</th>\n",
       "    </tr>\n",
       "  </thead>\n",
       "  <tbody>\n",
       "    <tr>\n",
       "      <th>0</th>\n",
       "      <td>Item_Weight</td>\n",
       "      <td>-0.028195</td>\n",
       "    </tr>\n",
       "    <tr>\n",
       "      <th>1</th>\n",
       "      <td>Item_Visibility</td>\n",
       "      <td>-56.148460</td>\n",
       "    </tr>\n",
       "    <tr>\n",
       "      <th>2</th>\n",
       "      <td>Item_MRP</td>\n",
       "      <td>0.165719</td>\n",
       "    </tr>\n",
       "  </tbody>\n",
       "</table>\n",
       "</div>"
      ],
      "text/plain": [
       "        Predictors  Co-Efficient\n",
       "0      Item_Weight     -0.028195\n",
       "1  Item_Visibility    -56.148460\n",
       "2         Item_MRP      0.165719"
      ]
     },
     "execution_count": 29,
     "metadata": {},
     "output_type": "execute_result"
    }
   ],
   "source": [
    "coef = pd.DataFrame(X_train.columns)\n",
    "coef[\"Co-Efficient\"] = pd.Series(lin_reg.coef_.reshape(3,))\n",
    "coef.rename(columns={0:\"Predictors\"})"
   ]
  },
  {
   "cell_type": "markdown",
   "metadata": {},
   "source": [
    "* Adding \"Item_Weight\" column is not improving our R-Squre value at all and CO-Efficient is nearer to Zero\n",
    "* So we can easily drop this column from our model"
   ]
  },
  {
   "cell_type": "code",
   "execution_count": 30,
   "metadata": {},
   "outputs": [
    {
     "data": {
      "image/png": "[encoded data removed]",
      "text/plain": [
       "<Figure size 432x288 with 1 Axes>"
      ]
     },
     "metadata": {
      "needs_background": "light"
     },
     "output_type": "display_data"
    }
   ],
   "source": [
    "# Residual Plot to check errors are randomly distributed or not\n",
    "plt.scatter(y_pred, (Y_test - y_pred), color=\"b\")\n",
    "plt.hlines(y=0, xmin=0, xmax=80, color=\"r\", linewidth=1)\n",
    "plt.show()"
   ]
  },
  {
   "cell_type": "markdown",
   "metadata": {},
   "source": [
    "### Step 3:\n",
    "     In this, I am considering the predictors variable are:\n",
    "        - Item_Visibility,\n",
    "        - Item_MRP,\n",
    "        - Outlet_Establishment_Year"
   ]
  },
  {
   "cell_type": "code",
   "execution_count": 31,
   "metadata": {},
   "outputs": [],
   "source": [
    "X = final.loc[:,[\"Outlet_Establishment_Year\",\"Item_Visibility\",\"Item_MRP\"]]\n",
    "\n",
    "Y = np.sqrt(final.loc[:,\"Item_Outlet_Sales\"])"
   ]
  },
  {
   "cell_type": "code",
   "execution_count": 32,
   "metadata": {},
   "outputs": [
    {
     "data": {
      "text/plain": [
       "((6818, 3), (1705, 3), (6818,), (1705,))"
      ]
     },
     "execution_count": 32,
     "metadata": {},
     "output_type": "execute_result"
    }
   ],
   "source": [
    "#split the data into training set and test set\n",
    "\n",
    "X_train, X_test, Y_train, Y_test = train_test_split(X, Y, test_size = 0.2, random_state = 0)\n",
    "\n",
    "X_train.shape, X_test.shape, Y_train.shape, Y_test.shape"
   ]
  },
  {
   "cell_type": "code",
   "execution_count": 33,
   "metadata": {},
   "outputs": [],
   "source": [
    "#create a linear regression object\n",
    "lin_reg = LinearRegression()\n",
    "\n",
    "#fitting the object to our training set\n",
    "lin_reg.fit(X_train, Y_train)\n",
    "\n",
    "#predicting the Y by providing test value\n",
    "y_pred = lin_reg.predict(X_test)"
   ]
  },
  {
   "cell_type": "code",
   "execution_count": 34,
   "metadata": {},
   "outputs": [
    {
     "name": "stdout",
     "output_type": "stream",
     "text": [
      "RMSE:  15.147338028003954\n",
      "R-Squre:  0.33643797046155444\n"
     ]
    }
   ],
   "source": [
    "#calculate mean squre error\n",
    "print(\"RMSE: \",np.sqrt(mean_squared_error(Y_test, y_pred)))\n",
    "\n",
    "#calculate R-Squre value\n",
    "print(\"R-Squre: \",r2_score(Y_test,y_pred))"
   ]
  },
  {
   "cell_type": "code",
   "execution_count": 35,
   "metadata": {},
   "outputs": [
    {
     "data": {
      "text/html": [
       "<div>\n",
       "<style scoped>\n",
       "    .dataframe tbody tr th:only-of-type {\n",
       "        vertical-align: middle;\n",
       "    }\n",
       "\n",
       "    .dataframe tbody tr th {\n",
       "        vertical-align: top;\n",
       "    }\n",
       "\n",
       "    .dataframe thead th {\n",
       "        text-align: right;\n",
       "    }\n",
       "</style>\n",
       "<table border=\"1\" class=\"dataframe\">\n",
       "  <thead>\n",
       "    <tr style=\"text-align: right;\">\n",
       "      <th></th>\n",
       "      <th>Predictors</th>\n",
       "      <th>Co-Efficient</th>\n",
       "    </tr>\n",
       "  </thead>\n",
       "  <tbody>\n",
       "    <tr>\n",
       "      <th>0</th>\n",
       "      <td>Outlet_Establishment_Year</td>\n",
       "      <td>0.003463</td>\n",
       "    </tr>\n",
       "    <tr>\n",
       "      <th>1</th>\n",
       "      <td>Item_Visibility</td>\n",
       "      <td>-56.084359</td>\n",
       "    </tr>\n",
       "    <tr>\n",
       "      <th>2</th>\n",
       "      <td>Item_MRP</td>\n",
       "      <td>0.165670</td>\n",
       "    </tr>\n",
       "  </tbody>\n",
       "</table>\n",
       "</div>"
      ],
      "text/plain": [
       "                  Predictors  Co-Efficient\n",
       "0  Outlet_Establishment_Year      0.003463\n",
       "1            Item_Visibility    -56.084359\n",
       "2                   Item_MRP      0.165670"
      ]
     },
     "execution_count": 35,
     "metadata": {},
     "output_type": "execute_result"
    }
   ],
   "source": [
    "coef = pd.DataFrame(X_train.columns)\n",
    "coef[\"Co-Efficient\"] = pd.Series(lin_reg.coef_.reshape(3,))\n",
    "coef.rename(columns={0:\"Predictors\"})"
   ]
  },
  {
   "cell_type": "markdown",
   "metadata": {},
   "source": [
    "* R-Squre value is increased not that much effecting \n",
    "* If you know these 3 features you can gain 33% info to predict sales accurately\n",
    "* Has 33% info can be achieved by 'Item_visibility' and 'Item_MRP', So we will not Consider Outlet_Establishment_Year"
   ]
  },
  {
   "cell_type": "code",
   "execution_count": 36,
   "metadata": {},
   "outputs": [
    {
     "data": {
      "image/png": "[encoded data removed]",
      "text/plain": [
       "<Figure size 432x288 with 1 Axes>"
      ]
     },
     "metadata": {
      "needs_background": "light"
     },
     "output_type": "display_data"
    }
   ],
   "source": [
    "# Residual Plot to check errors are randomly distributed or not\n",
    "plt.scatter(y_pred, (Y_test - y_pred), color=\"b\")\n",
    "plt.hlines(y=0, xmin=0, xmax=80, color=\"r\", linewidth=1)\n",
    "plt.show()"
   ]
  },
  {
   "cell_type": "markdown",
   "metadata": {},
   "source": [
    "### Step 4:\n",
    "     In this, I am considering the predictors variable are:\n",
    "        - Item_Visibility,\n",
    "        - Item_MRP,\n",
    "        - Item_Fat_Content"
   ]
  },
  {
   "cell_type": "code",
   "execution_count": 37,
   "metadata": {},
   "outputs": [],
   "source": [
    "X = final.loc[:,[\"Item_Fat_Content_Num\",\"Item_Visibility\",\"Item_MRP\"]]\n",
    "\n",
    "Y = np.sqrt(final.loc[:,\"Item_Outlet_Sales\"])"
   ]
  },
  {
   "cell_type": "code",
   "execution_count": 38,
   "metadata": {},
   "outputs": [
    {
     "data": {
      "text/plain": [
       "((6818, 3), (1705, 3), (6818,), (1705,))"
      ]
     },
     "execution_count": 38,
     "metadata": {},
     "output_type": "execute_result"
    }
   ],
   "source": [
    "#split the data into training set and test set\n",
    "\n",
    "X_train, X_test, Y_train, Y_test = train_test_split(X, Y, test_size = 0.2, random_state = 0)\n",
    "\n",
    "X_train.shape, X_test.shape, Y_train.shape, Y_test.shape"
   ]
  },
  {
   "cell_type": "code",
   "execution_count": 39,
   "metadata": {},
   "outputs": [],
   "source": [
    "#create a linear regression object\n",
    "lin_reg = LinearRegression()\n",
    "\n",
    "#fitting the object to our training set\n",
    "lin_reg.fit(X_train, Y_train)\n",
    "\n",
    "#predicting the Y by providing test value\n",
    "y_pred = lin_reg.predict(X_test)"
   ]
  },
  {
   "cell_type": "code",
   "execution_count": 40,
   "metadata": {},
   "outputs": [
    {
     "name": "stdout",
     "output_type": "stream",
     "text": [
      "RMSE:  15.132397768349017\n",
      "R-Squre:  0.33774630594215815\n"
     ]
    }
   ],
   "source": [
    "#calculate mean squre error\n",
    "print(\"RMSE: \",np.sqrt(mean_squared_error(Y_test, y_pred)))\n",
    "\n",
    "#calculate R-Squre value\n",
    "print(\"R-Squre: \",r2_score(Y_test,y_pred))"
   ]
  },
  {
   "cell_type": "code",
   "execution_count": 41,
   "metadata": {},
   "outputs": [
    {
     "data": {
      "text/html": [
       "<div>\n",
       "<style scoped>\n",
       "    .dataframe tbody tr th:only-of-type {\n",
       "        vertical-align: middle;\n",
       "    }\n",
       "\n",
       "    .dataframe tbody tr th {\n",
       "        vertical-align: top;\n",
       "    }\n",
       "\n",
       "    .dataframe thead th {\n",
       "        text-align: right;\n",
       "    }\n",
       "</style>\n",
       "<table border=\"1\" class=\"dataframe\">\n",
       "  <thead>\n",
       "    <tr style=\"text-align: right;\">\n",
       "      <th></th>\n",
       "      <th>Predictors</th>\n",
       "      <th>Co-Efficient</th>\n",
       "    </tr>\n",
       "  </thead>\n",
       "  <tbody>\n",
       "    <tr>\n",
       "      <th>0</th>\n",
       "      <td>Item_Fat_Content_Num</td>\n",
       "      <td>0.584058</td>\n",
       "    </tr>\n",
       "    <tr>\n",
       "      <th>1</th>\n",
       "      <td>Item_Visibility</td>\n",
       "      <td>-56.388274</td>\n",
       "    </tr>\n",
       "    <tr>\n",
       "      <th>2</th>\n",
       "      <td>Item_MRP</td>\n",
       "      <td>0.165604</td>\n",
       "    </tr>\n",
       "  </tbody>\n",
       "</table>\n",
       "</div>"
      ],
      "text/plain": [
       "             Predictors  Co-Efficient\n",
       "0  Item_Fat_Content_Num      0.584058\n",
       "1       Item_Visibility    -56.388274\n",
       "2              Item_MRP      0.165604"
      ]
     },
     "execution_count": 41,
     "metadata": {},
     "output_type": "execute_result"
    }
   ],
   "source": [
    "coef = pd.DataFrame(X_train.columns)\n",
    "coef[\"Co-Efficient\"] = pd.Series(lin_reg.coef_.reshape(3,))\n",
    "coef.rename(columns={0:\"Predictors\"})"
   ]
  },
  {
   "cell_type": "markdown",
   "metadata": {},
   "source": [
    "* R-Squre value further increase but not that significantly"
   ]
  },
  {
   "cell_type": "code",
   "execution_count": 42,
   "metadata": {},
   "outputs": [
    {
     "data": {
      "image/png": "[encoded data removed]",
      "text/plain": [
       "<Figure size 432x288 with 1 Axes>"
      ]
     },
     "metadata": {
      "needs_background": "light"
     },
     "output_type": "display_data"
    }
   ],
   "source": [
    "# Residual Plot to check errors are randomly distributed or not\n",
    "plt.scatter(y_pred, (Y_test - y_pred), color=\"r\")\n",
    "plt.hlines(y=0, xmin=0, xmax=80, color=\"b\", linewidth=1)\n",
    "plt.show()"
   ]
  },
  {
   "cell_type": "markdown",
   "metadata": {},
   "source": [
    "### Step 5:\n",
    "     In this, I am considering the predictors variable are:\n",
    "        - Item_Visibility,\n",
    "        - Item_MRP,\n",
    "        - Item_Fat_Content,\n",
    "        - Outlet_Size"
   ]
  },
  {
   "cell_type": "code",
   "execution_count": 43,
   "metadata": {},
   "outputs": [],
   "source": [
    "X = final.loc[:,[\"Item_Fat_Content_Num\",\"Item_Visibility\",\"Item_MRP\",\"Outlet_Size_Num\"]]\n",
    "\n",
    "Y = np.sqrt(final.loc[:,\"Item_Outlet_Sales\"])"
   ]
  },
  {
   "cell_type": "code",
   "execution_count": 44,
   "metadata": {},
   "outputs": [
    {
     "data": {
      "text/plain": [
       "((6818, 4), (1705, 4), (6818,), (1705,))"
      ]
     },
     "execution_count": 44,
     "metadata": {},
     "output_type": "execute_result"
    }
   ],
   "source": [
    "#split the data into training set and test set\n",
    "\n",
    "X_train, X_test, Y_train, Y_test = train_test_split(X, Y, test_size = 0.2, random_state = 0)\n",
    "\n",
    "X_train.shape, X_test.shape, Y_train.shape, Y_test.shape"
   ]
  },
  {
   "cell_type": "code",
   "execution_count": 45,
   "metadata": {},
   "outputs": [],
   "source": [
    "#create a linear regression object\n",
    "lin_reg = LinearRegression()\n",
    "\n",
    "#fitting the object to our training set\n",
    "lin_reg.fit(X_train, Y_train)\n",
    "\n",
    "#predicting the Y by providing test value\n",
    "y_pred = lin_reg.predict(X_test)"
   ]
  },
  {
   "cell_type": "code",
   "execution_count": 46,
   "metadata": {},
   "outputs": [
    {
     "name": "stdout",
     "output_type": "stream",
     "text": [
      "RMSE:  14.712583162470949\n",
      "R-Squre:  0.3739820966193864\n"
     ]
    }
   ],
   "source": [
    "#calculate mean squre error\n",
    "print(\"RMSE: \",np.sqrt(mean_squared_error(Y_test, y_pred)))\n",
    "\n",
    "#calculate R-Squre value\n",
    "print(\"R-Squre: \",r2_score(Y_test,y_pred))"
   ]
  },
  {
   "cell_type": "code",
   "execution_count": 47,
   "metadata": {},
   "outputs": [
    {
     "data": {
      "text/html": [
       "<div>\n",
       "<style scoped>\n",
       "    .dataframe tbody tr th:only-of-type {\n",
       "        vertical-align: middle;\n",
       "    }\n",
       "\n",
       "    .dataframe tbody tr th {\n",
       "        vertical-align: top;\n",
       "    }\n",
       "\n",
       "    .dataframe thead th {\n",
       "        text-align: right;\n",
       "    }\n",
       "</style>\n",
       "<table border=\"1\" class=\"dataframe\">\n",
       "  <thead>\n",
       "    <tr style=\"text-align: right;\">\n",
       "      <th></th>\n",
       "      <th>Predictors</th>\n",
       "      <th>Co-Efficient</th>\n",
       "    </tr>\n",
       "  </thead>\n",
       "  <tbody>\n",
       "    <tr>\n",
       "      <th>0</th>\n",
       "      <td>Item_Fat_Content_Num</td>\n",
       "      <td>0.523582</td>\n",
       "    </tr>\n",
       "    <tr>\n",
       "      <th>1</th>\n",
       "      <td>Item_Visibility</td>\n",
       "      <td>-50.391054</td>\n",
       "    </tr>\n",
       "    <tr>\n",
       "      <th>2</th>\n",
       "      <td>Item_MRP</td>\n",
       "      <td>0.165837</td>\n",
       "    </tr>\n",
       "    <tr>\n",
       "      <th>3</th>\n",
       "      <td>Outlet_Size_Num</td>\n",
       "      <td>4.645413</td>\n",
       "    </tr>\n",
       "  </tbody>\n",
       "</table>\n",
       "</div>"
      ],
      "text/plain": [
       "             Predictors  Co-Efficient\n",
       "0  Item_Fat_Content_Num      0.523582\n",
       "1       Item_Visibility    -50.391054\n",
       "2              Item_MRP      0.165837\n",
       "3       Outlet_Size_Num      4.645413"
      ]
     },
     "execution_count": 47,
     "metadata": {},
     "output_type": "execute_result"
    }
   ],
   "source": [
    "coef = pd.DataFrame(X_train.columns)\n",
    "coef[\"Co-Efficient\"] = pd.Series(lin_reg.coef_.reshape(4,))\n",
    "coef.rename(columns={0:\"Predictors\"})"
   ]
  },
  {
   "cell_type": "markdown",
   "metadata": {},
   "source": [
    "* R-Squre value is 33% to 37%\n",
    "* That means adding \"Outlet_Size\" we can improve our prediction of sales"
   ]
  },
  {
   "cell_type": "code",
   "execution_count": 48,
   "metadata": {},
   "outputs": [
    {
     "data": {
      "image/png": "[encoded data removed]",
      "text/plain": [
       "<Figure size 432x288 with 1 Axes>"
      ]
     },
     "metadata": {
      "needs_background": "light"
     },
     "output_type": "display_data"
    }
   ],
   "source": [
    "# Residual Plot to check errors are randomly distributed or not\n",
    "plt.scatter(y_pred, (Y_test - y_pred), color=\"r\")\n",
    "plt.hlines(y=0, xmin=0, xmax=80, color=\"b\", linewidth=1)\n",
    "plt.show()"
   ]
  },
  {
   "cell_type": "markdown",
   "metadata": {},
   "source": [
    "### Step 6:\n",
    "     In this, I am considering the predictors variable are:\n",
    "        - Item_Visibility,\n",
    "        - Item_MRP,\n",
    "        - Item_Fat_Content,\n",
    "        - Outlet_Size,\n",
    "        - Outlet_Location_Type"
   ]
  },
  {
   "cell_type": "code",
   "execution_count": 49,
   "metadata": {},
   "outputs": [],
   "source": [
    "X = final.loc[:,[\"Item_Fat_Content_Num\",\"Item_Visibility\",\"Item_MRP\",\n",
    "                 \"Outlet_Size_Num\",\"Outlet_Location_Type_Num\"]]\n",
    "\n",
    "Y = np.sqrt(final.loc[:,\"Item_Outlet_Sales\"])"
   ]
  },
  {
   "cell_type": "code",
   "execution_count": 50,
   "metadata": {},
   "outputs": [
    {
     "data": {
      "text/plain": [
       "((6818, 5), (1705, 5), (6818,), (1705,))"
      ]
     },
     "execution_count": 50,
     "metadata": {},
     "output_type": "execute_result"
    }
   ],
   "source": [
    "#split the data into training set and test set\n",
    "\n",
    "X_train, X_test, Y_train, Y_test = train_test_split(X, Y, test_size = 0.2, random_state = 0)\n",
    "\n",
    "X_train.shape, X_test.shape, Y_train.shape, Y_test.shape"
   ]
  },
  {
   "cell_type": "code",
   "execution_count": 51,
   "metadata": {},
   "outputs": [],
   "source": [
    "#create a linear regression object\n",
    "lin_reg = LinearRegression()\n",
    "\n",
    "#fitting the object to our training set\n",
    "lin_reg.fit(X_train, Y_train)\n",
    "\n",
    "#predicting the Y by providing test value\n",
    "y_pred = lin_reg.predict(X_test)"
   ]
  },
  {
   "cell_type": "code",
   "execution_count": 52,
   "metadata": {},
   "outputs": [
    {
     "name": "stdout",
     "output_type": "stream",
     "text": [
      "RMSE:  14.706780687487527\n",
      "R-Squre:  0.374475787888197\n"
     ]
    }
   ],
   "source": [
    "#calculate mean squre error\n",
    "print(\"RMSE: \",np.sqrt(mean_squared_error(Y_test, y_pred)))\n",
    "\n",
    "#calculate R-Squre value\n",
    "print(\"R-Squre: \",r2_score(Y_test,y_pred))"
   ]
  },
  {
   "cell_type": "code",
   "execution_count": 53,
   "metadata": {},
   "outputs": [
    {
     "data": {
      "text/html": [
       "<div>\n",
       "<style scoped>\n",
       "    .dataframe tbody tr th:only-of-type {\n",
       "        vertical-align: middle;\n",
       "    }\n",
       "\n",
       "    .dataframe tbody tr th {\n",
       "        vertical-align: top;\n",
       "    }\n",
       "\n",
       "    .dataframe thead th {\n",
       "        text-align: right;\n",
       "    }\n",
       "</style>\n",
       "<table border=\"1\" class=\"dataframe\">\n",
       "  <thead>\n",
       "    <tr style=\"text-align: right;\">\n",
       "      <th></th>\n",
       "      <th>Predictors</th>\n",
       "      <th>Co-Efficient</th>\n",
       "    </tr>\n",
       "  </thead>\n",
       "  <tbody>\n",
       "    <tr>\n",
       "      <th>0</th>\n",
       "      <td>Item_Fat_Content_Num</td>\n",
       "      <td>0.518985</td>\n",
       "    </tr>\n",
       "    <tr>\n",
       "      <th>1</th>\n",
       "      <td>Item_Visibility</td>\n",
       "      <td>-50.355468</td>\n",
       "    </tr>\n",
       "    <tr>\n",
       "      <th>2</th>\n",
       "      <td>Item_MRP</td>\n",
       "      <td>0.165831</td>\n",
       "    </tr>\n",
       "    <tr>\n",
       "      <th>3</th>\n",
       "      <td>Outlet_Size_Num</td>\n",
       "      <td>4.760922</td>\n",
       "    </tr>\n",
       "    <tr>\n",
       "      <th>4</th>\n",
       "      <td>Outlet_Location_Type_Num</td>\n",
       "      <td>-0.199355</td>\n",
       "    </tr>\n",
       "  </tbody>\n",
       "</table>\n",
       "</div>"
      ],
      "text/plain": [
       "                 Predictors  Co-Efficient\n",
       "0      Item_Fat_Content_Num      0.518985\n",
       "1           Item_Visibility    -50.355468\n",
       "2                  Item_MRP      0.165831\n",
       "3           Outlet_Size_Num      4.760922\n",
       "4  Outlet_Location_Type_Num     -0.199355"
      ]
     },
     "execution_count": 53,
     "metadata": {},
     "output_type": "execute_result"
    }
   ],
   "source": [
    "coef = pd.DataFrame(X_train.columns)\n",
    "coef[\"Co-Efficient\"] = pd.Series(lin_reg.coef_.reshape(5,))\n",
    "coef.rename(columns={0:\"Predictors\"})"
   ]
  },
  {
   "cell_type": "markdown",
   "metadata": {},
   "source": [
    "* R-Squre value further increase but not that significantly"
   ]
  },
  {
   "cell_type": "code",
   "execution_count": 54,
   "metadata": {},
   "outputs": [
    {
     "data": {
      "image/png": "[encoded data removed]",
      "text/plain": [
       "<Figure size 432x288 with 1 Axes>"
      ]
     },
     "metadata": {
      "needs_background": "light"
     },
     "output_type": "display_data"
    }
   ],
   "source": [
    "# Residual Plot to check errors are randomly distributed or not\n",
    "plt.scatter(y_pred, (Y_test - y_pred), color=\"r\")\n",
    "plt.hlines(y=0, xmin=0, xmax=80, color=\"b\", linewidth=1)\n",
    "plt.show()"
   ]
  },
  {
   "cell_type": "markdown",
   "metadata": {},
   "source": [
    "### Step 7:\n",
    "     In this, I am considering the predictors variable are:\n",
    "        - Item_Visibility,\n",
    "        - Item_MRP,\n",
    "        - Item_Fat_Content,\n",
    "        - Outlet_Size,\n",
    "        - Outlet_Location_Type\n",
    "        - Outlet_Type"
   ]
  },
  {
   "cell_type": "code",
   "execution_count": 55,
   "metadata": {},
   "outputs": [],
   "source": [
    "X = final.loc[:,[\"Item_Fat_Content_Num\",\"Item_Visibility\",\"Item_MRP\",\n",
    "                 \"Outlet_Size_Num\",\"Outlet_Location_Type_Num\",\"Outlet_Type_Num\"]]\n",
    "\n",
    "Y = np.sqrt(final.loc[:,\"Item_Outlet_Sales\"])"
   ]
  },
  {
   "cell_type": "code",
   "execution_count": 56,
   "metadata": {},
   "outputs": [
    {
     "data": {
      "text/plain": [
       "((6818, 6), (1705, 6), (6818,), (1705,))"
      ]
     },
     "execution_count": 56,
     "metadata": {},
     "output_type": "execute_result"
    }
   ],
   "source": [
    "#split the data into training set and test set\n",
    "\n",
    "X_train, X_test, Y_train, Y_test = train_test_split(X, Y, test_size = 0.2, random_state = 0)\n",
    "\n",
    "X_train.shape, X_test.shape, Y_train.shape, Y_test.shape"
   ]
  },
  {
   "cell_type": "code",
   "execution_count": 57,
   "metadata": {},
   "outputs": [],
   "source": [
    "#create a linear regression object\n",
    "lin_reg = LinearRegression()\n",
    "\n",
    "#fitting the object to our training set\n",
    "lin_reg.fit(X_train, Y_train)\n",
    "\n",
    "#predicting the Y by providing test value\n",
    "y_pred = lin_reg.predict(X_test)"
   ]
  },
  {
   "cell_type": "code",
   "execution_count": 58,
   "metadata": {},
   "outputs": [
    {
     "name": "stdout",
     "output_type": "stream",
     "text": [
      "RMSE:  13.683765963704749\n",
      "R-Squre:  0.4584729341478939\n"
     ]
    }
   ],
   "source": [
    "#calculate mean squre error\n",
    "print(\"RMSE: \",np.sqrt(mean_squared_error(Y_test, y_pred)))\n",
    "\n",
    "#calculate R-Squre value\n",
    "print(\"R-Squre: \",r2_score(Y_test,y_pred))"
   ]
  },
  {
   "cell_type": "code",
   "execution_count": 59,
   "metadata": {},
   "outputs": [
    {
     "data": {
      "text/html": [
       "<div>\n",
       "<style scoped>\n",
       "    .dataframe tbody tr th:only-of-type {\n",
       "        vertical-align: middle;\n",
       "    }\n",
       "\n",
       "    .dataframe tbody tr th {\n",
       "        vertical-align: top;\n",
       "    }\n",
       "\n",
       "    .dataframe thead th {\n",
       "        text-align: right;\n",
       "    }\n",
       "</style>\n",
       "<table border=\"1\" class=\"dataframe\">\n",
       "  <thead>\n",
       "    <tr style=\"text-align: right;\">\n",
       "      <th></th>\n",
       "      <th>Predictors</th>\n",
       "      <th>Co-Efficient</th>\n",
       "    </tr>\n",
       "  </thead>\n",
       "  <tbody>\n",
       "    <tr>\n",
       "      <th>0</th>\n",
       "      <td>Item_Fat_Content_Num</td>\n",
       "      <td>0.483444</td>\n",
       "    </tr>\n",
       "    <tr>\n",
       "      <th>1</th>\n",
       "      <td>Item_Visibility</td>\n",
       "      <td>-25.215517</td>\n",
       "    </tr>\n",
       "    <tr>\n",
       "      <th>2</th>\n",
       "      <td>Item_MRP</td>\n",
       "      <td>0.165426</td>\n",
       "    </tr>\n",
       "    <tr>\n",
       "      <th>3</th>\n",
       "      <td>Outlet_Size_Num</td>\n",
       "      <td>2.412071</td>\n",
       "    </tr>\n",
       "    <tr>\n",
       "      <th>4</th>\n",
       "      <td>Outlet_Location_Type_Num</td>\n",
       "      <td>3.000850</td>\n",
       "    </tr>\n",
       "    <tr>\n",
       "      <th>5</th>\n",
       "      <td>Outlet_Type_Num</td>\n",
       "      <td>-5.715450</td>\n",
       "    </tr>\n",
       "  </tbody>\n",
       "</table>\n",
       "</div>"
      ],
      "text/plain": [
       "                 Predictors  Co-Efficient\n",
       "0      Item_Fat_Content_Num      0.483444\n",
       "1           Item_Visibility    -25.215517\n",
       "2                  Item_MRP      0.165426\n",
       "3           Outlet_Size_Num      2.412071\n",
       "4  Outlet_Location_Type_Num      3.000850\n",
       "5           Outlet_Type_Num     -5.715450"
      ]
     },
     "execution_count": 59,
     "metadata": {},
     "output_type": "execute_result"
    }
   ],
   "source": [
    "coef = pd.DataFrame(X_train.columns)\n",
    "coef[\"Co-Efficient\"] = pd.Series(lin_reg.coef_.reshape(6,))\n",
    "coef.rename(columns={0:\"Predictors\"})"
   ]
  },
  {
   "cell_type": "markdown",
   "metadata": {},
   "source": [
    "* R-Squre value is further increased from 37% to 45%\n",
    "* That means adding \"Outlet_Type\" we can improve our prediction of sales better than before"
   ]
  },
  {
   "cell_type": "code",
   "execution_count": 60,
   "metadata": {},
   "outputs": [
    {
     "data": {
      "image/png": "[encoded data removed]",
      "text/plain": [
       "<Figure size 432x288 with 1 Axes>"
      ]
     },
     "metadata": {
      "needs_background": "light"
     },
     "output_type": "display_data"
    }
   ],
   "source": [
    "# Residual Plot to check errors are randomly distributed or not\n",
    "plt.scatter(y_pred, (Y_test - y_pred), color=\"r\")\n",
    "plt.hlines(y=0, xmin=0, xmax=80, color=\"b\", linewidth=1)\n",
    "plt.show()"
   ]
  },
  {
   "cell_type": "markdown",
   "metadata": {},
   "source": [
    "### Step 8:\n",
    "     In this, I am considering the predictors variable are:\n",
    "        - Item_Visibility,\n",
    "        - Item_MRP,\n",
    "        - Item_Fat_Content,\n",
    "        - Outlet_Size,\n",
    "        - Outlet_Location_Type\n",
    "        - Outlet_Type\n",
    "        - Item_Type"
   ]
  },
  {
   "cell_type": "code",
   "execution_count": 61,
   "metadata": {},
   "outputs": [],
   "source": [
    "X = final.loc[:,[\"Item_Fat_Content_Num\",\"Item_Visibility\",\"Item_MRP\",\"Item_Type_Num\",\n",
    "                 \"Outlet_Size_Num\",\"Outlet_Location_Type_Num\",\"Outlet_Type_Num\"]]\n",
    "\n",
    "Y = np.sqrt(final.loc[:,\"Item_Outlet_Sales\"])"
   ]
  },
  {
   "cell_type": "code",
   "execution_count": 62,
   "metadata": {},
   "outputs": [
    {
     "data": {
      "text/plain": [
       "((6818, 7), (1705, 7), (6818,), (1705,))"
      ]
     },
     "execution_count": 62,
     "metadata": {},
     "output_type": "execute_result"
    }
   ],
   "source": [
    "#split the data into training set and test set\n",
    "\n",
    "X_train, X_test, Y_train, Y_test = train_test_split(X, Y, test_size = 0.2, random_state = 0)\n",
    "\n",
    "X_train.shape, X_test.shape, Y_train.shape, Y_test.shape"
   ]
  },
  {
   "cell_type": "code",
   "execution_count": 63,
   "metadata": {},
   "outputs": [],
   "source": [
    "#create a linear regression object\n",
    "lin_reg = LinearRegression()\n",
    "\n",
    "#fitting the object to our training set\n",
    "lin_reg.fit(X_train, Y_train)\n",
    "\n",
    "#predicting the Y by providing test value\n",
    "y_pred = lin_reg.predict(X_test)"
   ]
  },
  {
   "cell_type": "code",
   "execution_count": 64,
   "metadata": {},
   "outputs": [
    {
     "name": "stdout",
     "output_type": "stream",
     "text": [
      "RMSE:  13.689684825147928\n",
      "R-Squre:  0.45800436184364257\n"
     ]
    }
   ],
   "source": [
    "#calculate mean squre error\n",
    "print(\"RMSE: \",np.sqrt(mean_squared_error(Y_test, y_pred)))\n",
    "\n",
    "#calculate R-Squre value\n",
    "print(\"R-Squre: \",r2_score(Y_test,y_pred))"
   ]
  },
  {
   "cell_type": "code",
   "execution_count": 65,
   "metadata": {},
   "outputs": [
    {
     "data": {
      "text/html": [
       "<div>\n",
       "<style scoped>\n",
       "    .dataframe tbody tr th:only-of-type {\n",
       "        vertical-align: middle;\n",
       "    }\n",
       "\n",
       "    .dataframe tbody tr th {\n",
       "        vertical-align: top;\n",
       "    }\n",
       "\n",
       "    .dataframe thead th {\n",
       "        text-align: right;\n",
       "    }\n",
       "</style>\n",
       "<table border=\"1\" class=\"dataframe\">\n",
       "  <thead>\n",
       "    <tr style=\"text-align: right;\">\n",
       "      <th></th>\n",
       "      <th>Predictors</th>\n",
       "      <th>Co-Efficient</th>\n",
       "    </tr>\n",
       "  </thead>\n",
       "  <tbody>\n",
       "    <tr>\n",
       "      <th>0</th>\n",
       "      <td>Item_Fat_Content_Num</td>\n",
       "      <td>0.514983</td>\n",
       "    </tr>\n",
       "    <tr>\n",
       "      <th>1</th>\n",
       "      <td>Item_Visibility</td>\n",
       "      <td>-25.161843</td>\n",
       "    </tr>\n",
       "    <tr>\n",
       "      <th>2</th>\n",
       "      <td>Item_MRP</td>\n",
       "      <td>0.165538</td>\n",
       "    </tr>\n",
       "    <tr>\n",
       "      <th>3</th>\n",
       "      <td>Item_Type_Num</td>\n",
       "      <td>0.084609</td>\n",
       "    </tr>\n",
       "    <tr>\n",
       "      <th>4</th>\n",
       "      <td>Outlet_Size_Num</td>\n",
       "      <td>2.419609</td>\n",
       "    </tr>\n",
       "    <tr>\n",
       "      <th>5</th>\n",
       "      <td>Outlet_Location_Type_Num</td>\n",
       "      <td>2.997279</td>\n",
       "    </tr>\n",
       "    <tr>\n",
       "      <th>6</th>\n",
       "      <td>Outlet_Type_Num</td>\n",
       "      <td>-5.712968</td>\n",
       "    </tr>\n",
       "  </tbody>\n",
       "</table>\n",
       "</div>"
      ],
      "text/plain": [
       "                 Predictors  Co-Efficient\n",
       "0      Item_Fat_Content_Num      0.514983\n",
       "1           Item_Visibility    -25.161843\n",
       "2                  Item_MRP      0.165538\n",
       "3             Item_Type_Num      0.084609\n",
       "4           Outlet_Size_Num      2.419609\n",
       "5  Outlet_Location_Type_Num      2.997279\n",
       "6           Outlet_Type_Num     -5.712968"
      ]
     },
     "execution_count": 65,
     "metadata": {},
     "output_type": "execute_result"
    }
   ],
   "source": [
    "coef = pd.DataFrame(X_train.columns)\n",
    "coef[\"Co-Efficient\"] = pd.Series(lin_reg.coef_.reshape(7,))\n",
    "coef.rename(columns={0:\"Predictors\"})"
   ]
  },
  {
   "cell_type": "markdown",
   "metadata": {},
   "source": [
    "* R-Squre value further decrease but not that significantly"
   ]
  },
  {
   "cell_type": "code",
   "execution_count": 66,
   "metadata": {},
   "outputs": [
    {
     "data": {
      "image/png": "[encoded data removed]",
      "text/plain": [
       "<Figure size 432x288 with 1 Axes>"
      ]
     },
     "metadata": {
      "needs_background": "light"
     },
     "output_type": "display_data"
    }
   ],
   "source": [
    "# Residual Plot to check errors are randomly distributed or not\n",
    "plt.scatter(y_pred, (Y_test - y_pred), color=\"r\")\n",
    "plt.hlines(y=0, xmin=0, xmax=80, color=\"b\", linewidth=1)\n",
    "plt.show()"
   ]
  },
  {
   "cell_type": "markdown",
   "metadata": {},
   "source": [
    "### Step 9:\n",
    "     In this, I am considering the predictors variable are:\n",
    "        - Item_Visibility,\n",
    "        - Item_MRP,\n",
    "        - Outlet_Size,\n",
    "        - Outlet_Location_Type\n",
    "        - Outlet_Type"
   ]
  },
  {
   "cell_type": "code",
   "execution_count": 67,
   "metadata": {},
   "outputs": [],
   "source": [
    "X = final.loc[:,[\"Item_Visibility\",\"Item_MRP\",\"Outlet_Size_Num\",\"Outlet_Location_Type_Num\",\"Outlet_Type_Num\"]]\n",
    "\n",
    "Y = np.sqrt(final.loc[:,\"Item_Outlet_Sales\"])"
   ]
  },
  {
   "cell_type": "code",
   "execution_count": 68,
   "metadata": {},
   "outputs": [
    {
     "data": {
      "text/plain": [
       "((6818, 5), (1705, 5), (6818,), (1705,))"
      ]
     },
     "execution_count": 68,
     "metadata": {},
     "output_type": "execute_result"
    }
   ],
   "source": [
    "#split the data into training set and test set\n",
    "\n",
    "X_train, X_test, Y_train, Y_test = train_test_split(X, Y, test_size = 0.2, random_state = 0)\n",
    "\n",
    "X_train.shape, X_test.shape, Y_train.shape, Y_test.shape"
   ]
  },
  {
   "cell_type": "code",
   "execution_count": 69,
   "metadata": {},
   "outputs": [],
   "source": [
    "#create a linear regression object\n",
    "lin_reg = LinearRegression()\n",
    "\n",
    "#fitting the object to our training set\n",
    "lin_reg.fit(X_train, Y_train)\n",
    "\n",
    "#predicting the Y by providing test value\n",
    "y_pred = lin_reg.predict(X_test)"
   ]
  },
  {
   "cell_type": "code",
   "execution_count": 70,
   "metadata": {},
   "outputs": [
    {
     "name": "stdout",
     "output_type": "stream",
     "text": [
      "RMSE:  13.69227628797574\n",
      "R-Squre:  0.4577991424380694\n"
     ]
    }
   ],
   "source": [
    "#calculate mean squre error\n",
    "print(\"RMSE: \",np.sqrt(mean_squared_error(Y_test, y_pred)))\n",
    "\n",
    "#calculate R-Squre value\n",
    "print(\"R-Squre: \",r2_score(Y_test,y_pred))"
   ]
  },
  {
   "cell_type": "code",
   "execution_count": 71,
   "metadata": {},
   "outputs": [
    {
     "data": {
      "text/html": [
       "<div>\n",
       "<style scoped>\n",
       "    .dataframe tbody tr th:only-of-type {\n",
       "        vertical-align: middle;\n",
       "    }\n",
       "\n",
       "    .dataframe tbody tr th {\n",
       "        vertical-align: top;\n",
       "    }\n",
       "\n",
       "    .dataframe thead th {\n",
       "        text-align: right;\n",
       "    }\n",
       "</style>\n",
       "<table border=\"1\" class=\"dataframe\">\n",
       "  <thead>\n",
       "    <tr style=\"text-align: right;\">\n",
       "      <th></th>\n",
       "      <th>Predictors</th>\n",
       "      <th>Co-Efficient</th>\n",
       "    </tr>\n",
       "  </thead>\n",
       "  <tbody>\n",
       "    <tr>\n",
       "      <th>0</th>\n",
       "      <td>Item_Visibility</td>\n",
       "      <td>-24.990424</td>\n",
       "    </tr>\n",
       "    <tr>\n",
       "      <th>1</th>\n",
       "      <td>Item_MRP</td>\n",
       "      <td>0.165482</td>\n",
       "    </tr>\n",
       "    <tr>\n",
       "      <th>2</th>\n",
       "      <td>Outlet_Size_Num</td>\n",
       "      <td>2.417811</td>\n",
       "    </tr>\n",
       "    <tr>\n",
       "      <th>3</th>\n",
       "      <td>Outlet_Location_Type_Num</td>\n",
       "      <td>2.996249</td>\n",
       "    </tr>\n",
       "    <tr>\n",
       "      <th>4</th>\n",
       "      <td>Outlet_Type_Num</td>\n",
       "      <td>-5.716162</td>\n",
       "    </tr>\n",
       "  </tbody>\n",
       "</table>\n",
       "</div>"
      ],
      "text/plain": [
       "                 Predictors  Co-Efficient\n",
       "0           Item_Visibility    -24.990424\n",
       "1                  Item_MRP      0.165482\n",
       "2           Outlet_Size_Num      2.417811\n",
       "3  Outlet_Location_Type_Num      2.996249\n",
       "4           Outlet_Type_Num     -5.716162"
      ]
     },
     "execution_count": 71,
     "metadata": {},
     "output_type": "execute_result"
    }
   ],
   "source": [
    "coef = pd.DataFrame(X_train.columns)\n",
    "coef[\"Co-Efficient\"] = pd.Series(lin_reg.coef_.reshape(5,))\n",
    "coef.rename(columns={0:\"Predictors\"})"
   ]
  },
  {
   "cell_type": "markdown",
   "metadata": {},
   "source": [
    "* R-Squre value is 45%, that means 45% varience in Sales is explained by following:\n",
    "    - Item_Visibility,\n",
    "    - Item_MRP,\n",
    "    - Outlet_Size,\n",
    "    - Outlet_Location_Type\n",
    "    - Outlet_Type"
   ]
  },
  {
   "cell_type": "code",
   "execution_count": 72,
   "metadata": {},
   "outputs": [
    {
     "data": {
      "image/png": "[encoded data removed]",
      "text/plain": [
       "<Figure size 432x288 with 1 Axes>"
      ]
     },
     "metadata": {
      "needs_background": "light"
     },
     "output_type": "display_data"
    }
   ],
   "source": [
    "# Residual Plot to check errors are randomly distributed or not\n",
    "plt.scatter(y_pred, (Y_test - y_pred), color=\"r\")\n",
    "plt.hlines(y=0, xmin=0, xmax=80, color=\"b\", linewidth=1)\n",
    "plt.show()"
   ]
  },
  {
   "cell_type": "markdown",
   "metadata": {},
   "source": [
    "# CONCLUSION:\n",
    "* From the above all the regression model we understand that \n",
    "* using \"Item_Visibility\",\"Item_MRP\",\"Outlet_Size\",\"Outlet_Location_Type\",\"Outlet_Type\" these columns we can finally create our final model which will give us maximum result"
   ]
  },
  {
   "cell_type": "markdown",
   "metadata": {},
   "source": [
    "## --------------------------------------------------------------------------------"
   ]
  },
  {
   "cell_type": "markdown",
   "metadata": {},
   "source": [
    "## Regularization "
   ]
  },
  {
   "cell_type": "markdown",
   "metadata": {},
   "source": [
    "#### Ridge Regression"
   ]
  },
  {
   "cell_type": "code",
   "execution_count": 73,
   "metadata": {},
   "outputs": [],
   "source": [
    "X = final.loc[:,['Item_Weight','Item_Visibility','Item_MRP','Outlet_Establishment_Year','Outlet_Size_Num',\n",
    "      'Outlet_Location_Type_Num','Outlet_Type_Num','Item_Fat_Content_Num','Item_Type_Num']]\n",
    "Y = final.loc[:,'Item_Outlet_Sales']"
   ]
  },
  {
   "cell_type": "code",
   "execution_count": 74,
   "metadata": {},
   "outputs": [
    {
     "name": "stdout",
     "output_type": "stream",
     "text": [
      "R-Squre 0.41983688027745936 for alpha=0.01\n",
      "R-Squre 0.4178367611570969 for alpha=0.05\n",
      "R-Squre 0.36380849865902465 for alpha=0.5\n",
      "R-Squre 0.1260992399804277 for alpha=5\n",
      "R-Squre 0.07196479171992964 for alpha=10\n"
     ]
    }
   ],
   "source": [
    "from sklearn.linear_model import Ridge\n",
    "\n",
    "X_train, X_test, Y_train, Y_test = train_test_split(X, Y, test_size = 0.2, random_state = 0)\n",
    "#create a ridge regression object object\n",
    "alpha_list = [0.01,0.05,0.5,5,10]\n",
    "\n",
    "for i in alpha_list:\n",
    "    ridge_reg = Ridge(alpha = i, normalize=True)\n",
    "    ridge_reg.fit(X_train, Y_train)\n",
    "    y_pred1 = ridge_reg.predict(X_test)\n",
    "    print(\"R-Squre {} for alpha={}\" .format(r2_score(Y_test, y_pred1), i))"
   ]
  },
  {
   "cell_type": "markdown",
   "metadata": {},
   "source": [
    "* for alpha 0.01 above model is giving more R-Squre nearly 42%\n",
    "* for rest of the alpha value R-Squre value is decreasing"
   ]
  },
  {
   "cell_type": "code",
   "execution_count": 75,
   "metadata": {},
   "outputs": [
    {
     "name": "stdout",
     "output_type": "stream",
     "text": [
      "R-Squre:  0.41983688027745936\n"
     ]
    }
   ],
   "source": [
    "# Fit the model using alpha 0.01\n",
    "\n",
    "ridge_reg = Ridge(alpha = 0.01, normalize=True)\n",
    "ridge_reg.fit(X_train, Y_train)\n",
    "y_pred1 = ridge_reg.predict(X_test)\n",
    "print(\"R-Squre: \",r2_score(Y_test, y_pred1))"
   ]
  },
  {
   "cell_type": "code",
   "execution_count": 76,
   "metadata": {},
   "outputs": [
    {
     "data": {
      "text/plain": [
       "array([   -2.81929765, -2166.4573205 ,    15.38263975,   -39.987212  ,\n",
       "        -112.8755391 ,   394.15580983,  -520.04266146,    52.04575295,\n",
       "           5.54828708])"
      ]
     },
     "execution_count": 76,
     "metadata": {},
     "output_type": "execute_result"
    }
   ],
   "source": [
    "ridge_reg.coef_"
   ]
  },
  {
   "cell_type": "code",
   "execution_count": 77,
   "metadata": {},
   "outputs": [
    {
     "data": {
      "text/plain": [
       "<matplotlib.axes._subplots.AxesSubplot at 0x2c842463a58>"
      ]
     },
     "execution_count": 77,
     "metadata": {},
     "output_type": "execute_result"
    },
    {
     "data": {
      "image/png": "[encoded data removed]",
      "text/plain": [
       "<Figure size 432x288 with 1 Axes>"
      ]
     },
     "metadata": {
      "needs_background": "light"
     },
     "output_type": "display_data"
    }
   ],
   "source": [
    "predictors = X_train.columns\n",
    "coef = pd.Series(ridge_reg.coef_, predictors).sort_values()\n",
    "coef.plot(kind = 'bar', title='Modal Coefficients')\n",
    "#plt.hlines(y=0,xmin=-10,xmax=100)"
   ]
  },
  {
   "cell_type": "markdown",
   "metadata": {},
   "source": [
    "* clearly observe above that when alpha 0.01 the R-Squre value is maximum\n",
    "* In ridge if we increase the alpha co-efficient will reach to zero but not absolute zero\n",
    "* It will not drop the column but will put lesser weightage to the co-efficient which variable is not giving that much info about the independancy variable,it will select the column according to its dependancy on sales."
   ]
  },
  {
   "cell_type": "markdown",
   "metadata": {},
   "source": [
    "#### Lasso Regression"
   ]
  },
  {
   "cell_type": "code",
   "execution_count": 78,
   "metadata": {},
   "outputs": [
    {
     "name": "stdout",
     "output_type": "stream",
     "text": [
      "R-Squre 0.41995207485396546 for alpha=0.001\n",
      "R-Squre 0.41995285488003165 for alpha=0.01\n",
      "R-Squre 0.41983558227125894 for alpha=0.05\n",
      "R-Squre 0.41310547514046125 for alpha=0.5\n",
      "R-Squre 0.2570291178774513 for alpha=5\n",
      "R-Squre 0.08675970968730662 for alpha=10\n"
     ]
    }
   ],
   "source": [
    "from sklearn.linear_model import Lasso\n",
    "\n",
    "X_train, X_test, Y_train, Y_test = train_test_split(X, Y, test_size = 0.2, random_state = 0)\n",
    "#create a ridge regression object object\n",
    "alpha_list = [0.001,0.01,0.05,0.5,5,10]\n",
    "\n",
    "for i in alpha_list:\n",
    "    lasso_reg = Lasso(alpha = i, normalize=True)\n",
    "    lasso_reg.fit(X_train, Y_train)\n",
    "    y_pred2 = lasso_reg.predict(X_test)\n",
    "    print(\"R-Squre {} for alpha={}\" .format(r2_score(Y_test, y_pred2), i))"
   ]
  },
  {
   "cell_type": "markdown",
   "metadata": {},
   "source": [
    "* clearly observe that when alpha 0.01 the R-Squre value is maximum\n",
    "* In lasso if we increase the alpha co-efficient will reach to absolute zero\n",
    "* It is a kind of features extraction, it will select the column according to its dependancy on sales"
   ]
  },
  {
   "cell_type": "code",
   "execution_count": 79,
   "metadata": {},
   "outputs": [
    {
     "name": "stdout",
     "output_type": "stream",
     "text": [
      "R-Squre:  0.41995285488003165\n"
     ]
    }
   ],
   "source": [
    "# Fit the model using alpha 0.01\n",
    "\n",
    "lasso_reg = Lasso(alpha = 0.01, normalize=True)\n",
    "lasso_reg.fit(X_train, Y_train)\n",
    "y_pred2 = lasso_reg.predict(X_test)\n",
    "print(\"R-Squre: \",r2_score(Y_test, y_pred2))"
   ]
  },
  {
   "cell_type": "code",
   "execution_count": 80,
   "metadata": {},
   "outputs": [
    {
     "data": {
      "text/plain": [
       "array([   -2.6908176 , -2140.77994506,    15.5225205 ,   -41.54391916,\n",
       "        -130.31856926,   408.1825558 ,  -533.78507524,    50.72135791,\n",
       "           5.40042803])"
      ]
     },
     "execution_count": 80,
     "metadata": {},
     "output_type": "execute_result"
    }
   ],
   "source": [
    "lasso_reg.coef_"
   ]
  },
  {
   "cell_type": "code",
   "execution_count": 81,
   "metadata": {},
   "outputs": [
    {
     "data": {
      "text/plain": [
       "<matplotlib.axes._subplots.AxesSubplot at 0x2c843cda4a8>"
      ]
     },
     "execution_count": 81,
     "metadata": {},
     "output_type": "execute_result"
    },
    {
     "data": {
      "image/png": "[encoded data removed]",
      "text/plain": [
       "<Figure size 432x288 with 1 Axes>"
      ]
     },
     "metadata": {
      "needs_background": "light"
     },
     "output_type": "display_data"
    }
   ],
   "source": [
    "predictors = X_train.columns\n",
    "coef = pd.Series(lasso_reg.coef_,predictors).sort_values()\n",
    "coef.plot(kind = 'bar', title = 'modal Coefficients')\n",
    "#plt.hlines(y=0,xmin=-10,xmax=100)"
   ]
  },
  {
   "cell_type": "markdown",
   "metadata": {},
   "source": [
    "## --------------------------------------------------------------------------------------------------------"
   ]
  },
  {
   "cell_type": "markdown",
   "metadata": {},
   "source": [
    "### PREDICT SALES for TEST DATASET\n",
    "* Similarly we need to do missing value treatment and all the cleaning process what we did for training data otherwise variance will come in prediction of Sales in testdata set "
   ]
  },
  {
   "cell_type": "code",
   "execution_count": 82,
   "metadata": {},
   "outputs": [],
   "source": [
    "#dropping two columns as we have dropped train test also\n",
    "test.drop([\"Item_Identifier\",\"Outlet_Identifier\"], axis=1, inplace=True)"
   ]
  },
  {
   "cell_type": "code",
   "execution_count": 83,
   "metadata": {},
   "outputs": [
    {
     "data": {
      "text/plain": [
       "Item_Weight                  0.171801\n",
       "Item_Fat_Content             0.000000\n",
       "Item_Visibility              0.000000\n",
       "Item_Type                    0.000000\n",
       "Item_MRP                     0.000000\n",
       "Outlet_Establishment_Year    0.000000\n",
       "Outlet_Size                  0.282697\n",
       "Outlet_Location_Type         0.000000\n",
       "Outlet_Type                  0.000000\n",
       "dtype: float64"
      ]
     },
     "execution_count": 83,
     "metadata": {},
     "output_type": "execute_result"
    }
   ],
   "source": [
    "#checking for missing value\n",
    "test.isnull().sum()/len(test)"
   ]
  },
  {
   "cell_type": "code",
   "execution_count": 84,
   "metadata": {},
   "outputs": [
    {
     "name": "stderr",
     "output_type": "stream",
     "text": [
      "C:\\ProgramData\\Anaconda3\\lib\\site-packages\\missingpy\\knnimpute.py:224: UserWarning: There are rows with more than 50.0% missing values. These rows are not included as donor neighbors.\n",
      "  .format(self.row_max_missing * 100))\n",
      "C:\\ProgramData\\Anaconda3\\lib\\site-packages\\missingpy\\knnimpute.py:282: UserWarning: There are rows with more than 50.0% missing values. The missing features in these rows are imputed with column means.\n",
      "  .format(self.row_max_missing * 100))\n"
     ]
    }
   ],
   "source": [
    "# Imputing the missing value use kNN\n",
    "\n",
    "from missingpy import KNNImputer\n",
    "\n",
    "# Creating the KNN imputation object\n",
    "imputer = KNNImputer(missing_values= \"NaN\", n_neighbors= 2, metric=\"masked_euclidean\", weights=\"distance\")\n",
    "\n",
    "# Applying the imputation object on the column where we want to impute the value\n",
    "test[\"Item_Weight\"] = imputer.fit_transform(test[[\"Item_Weight\"]])"
   ]
  },
  {
   "cell_type": "code",
   "execution_count": 85,
   "metadata": {},
   "outputs": [
    {
     "data": {
      "text/plain": [
       "0"
      ]
     },
     "execution_count": 85,
     "metadata": {},
     "output_type": "execute_result"
    }
   ],
   "source": [
    "#replace \"NaN\" with \"small\"\n",
    "test[\"Outlet_Size\"] = test[\"Outlet_Size\"].replace({np.nan:\"Small\"})\n",
    "# Lets check again \"Outtlet_Size\" column\n",
    "test.Outlet_Size.isnull().sum()"
   ]
  },
  {
   "cell_type": "code",
   "execution_count": 86,
   "metadata": {},
   "outputs": [
    {
     "data": {
      "text/plain": [
       "Item_Weight                  0.0\n",
       "Item_Fat_Content             0.0\n",
       "Item_Visibility              0.0\n",
       "Item_Type                    0.0\n",
       "Item_MRP                     0.0\n",
       "Outlet_Establishment_Year    0.0\n",
       "Outlet_Size                  0.0\n",
       "Outlet_Location_Type         0.0\n",
       "Outlet_Type                  0.0\n",
       "dtype: float64"
      ]
     },
     "execution_count": 86,
     "metadata": {},
     "output_type": "execute_result"
    }
   ],
   "source": [
    "#checking for missing value\n",
    "test.isnull().sum()/len(test)"
   ]
  },
  {
   "cell_type": "code",
   "execution_count": 87,
   "metadata": {},
   "outputs": [
    {
     "data": {
      "text/html": [
       "<div>\n",
       "<style scoped>\n",
       "    .dataframe tbody tr th:only-of-type {\n",
       "        vertical-align: middle;\n",
       "    }\n",
       "\n",
       "    .dataframe tbody tr th {\n",
       "        vertical-align: top;\n",
       "    }\n",
       "\n",
       "    .dataframe thead th {\n",
       "        text-align: right;\n",
       "    }\n",
       "</style>\n",
       "<table border=\"1\" class=\"dataframe\">\n",
       "  <thead>\n",
       "    <tr style=\"text-align: right;\">\n",
       "      <th></th>\n",
       "      <th>Item_Weight</th>\n",
       "      <th>Item_Fat_Content</th>\n",
       "      <th>Item_Visibility</th>\n",
       "      <th>Item_Type</th>\n",
       "      <th>Item_MRP</th>\n",
       "      <th>Outlet_Establishment_Year</th>\n",
       "      <th>Outlet_Size</th>\n",
       "      <th>Outlet_Location_Type</th>\n",
       "      <th>Outlet_Type</th>\n",
       "      <th>Outlet_Size_Num</th>\n",
       "      <th>Outlet_Location_Type_Num</th>\n",
       "      <th>Outlet_Type_Num</th>\n",
       "      <th>Item_Fat_Content_Num</th>\n",
       "      <th>Item_Type_Num</th>\n",
       "    </tr>\n",
       "  </thead>\n",
       "  <tbody>\n",
       "    <tr>\n",
       "      <th>0</th>\n",
       "      <td>20.750000</td>\n",
       "      <td>Low Fat</td>\n",
       "      <td>0.007565</td>\n",
       "      <td>Snack Foods</td>\n",
       "      <td>107.8622</td>\n",
       "      <td>1999</td>\n",
       "      <td>Medium</td>\n",
       "      <td>Tier 1</td>\n",
       "      <td>Supermarket Type1</td>\n",
       "      <td>2</td>\n",
       "      <td>1</td>\n",
       "      <td>1</td>\n",
       "      <td>1</td>\n",
       "      <td>7</td>\n",
       "    </tr>\n",
       "    <tr>\n",
       "      <th>1</th>\n",
       "      <td>8.300000</td>\n",
       "      <td>reg</td>\n",
       "      <td>0.038428</td>\n",
       "      <td>Dairy</td>\n",
       "      <td>87.3198</td>\n",
       "      <td>2007</td>\n",
       "      <td>Small</td>\n",
       "      <td>Tier 2</td>\n",
       "      <td>Supermarket Type1</td>\n",
       "      <td>1</td>\n",
       "      <td>2</td>\n",
       "      <td>1</td>\n",
       "      <td>2</td>\n",
       "      <td>1</td>\n",
       "    </tr>\n",
       "    <tr>\n",
       "      <th>2</th>\n",
       "      <td>14.600000</td>\n",
       "      <td>Low Fat</td>\n",
       "      <td>0.099575</td>\n",
       "      <td>Others</td>\n",
       "      <td>241.7538</td>\n",
       "      <td>1998</td>\n",
       "      <td>Small</td>\n",
       "      <td>Tier 3</td>\n",
       "      <td>Grocery Store</td>\n",
       "      <td>1</td>\n",
       "      <td>3</td>\n",
       "      <td>4</td>\n",
       "      <td>1</td>\n",
       "      <td>15</td>\n",
       "    </tr>\n",
       "    <tr>\n",
       "      <th>3</th>\n",
       "      <td>7.315000</td>\n",
       "      <td>Low Fat</td>\n",
       "      <td>0.015388</td>\n",
       "      <td>Snack Foods</td>\n",
       "      <td>155.0340</td>\n",
       "      <td>2007</td>\n",
       "      <td>Small</td>\n",
       "      <td>Tier 2</td>\n",
       "      <td>Supermarket Type1</td>\n",
       "      <td>1</td>\n",
       "      <td>2</td>\n",
       "      <td>1</td>\n",
       "      <td>1</td>\n",
       "      <td>7</td>\n",
       "    </tr>\n",
       "    <tr>\n",
       "      <th>4</th>\n",
       "      <td>12.695633</td>\n",
       "      <td>Regular</td>\n",
       "      <td>0.118599</td>\n",
       "      <td>Dairy</td>\n",
       "      <td>234.2300</td>\n",
       "      <td>1985</td>\n",
       "      <td>Medium</td>\n",
       "      <td>Tier 3</td>\n",
       "      <td>Supermarket Type3</td>\n",
       "      <td>2</td>\n",
       "      <td>3</td>\n",
       "      <td>3</td>\n",
       "      <td>2</td>\n",
       "      <td>1</td>\n",
       "    </tr>\n",
       "  </tbody>\n",
       "</table>\n",
       "</div>"
      ],
      "text/plain": [
       "   Item_Weight Item_Fat_Content  Item_Visibility    Item_Type  Item_MRP  \\\n",
       "0    20.750000          Low Fat         0.007565  Snack Foods  107.8622   \n",
       "1     8.300000              reg         0.038428        Dairy   87.3198   \n",
       "2    14.600000          Low Fat         0.099575       Others  241.7538   \n",
       "3     7.315000          Low Fat         0.015388  Snack Foods  155.0340   \n",
       "4    12.695633          Regular         0.118599        Dairy  234.2300   \n",
       "\n",
       "   Outlet_Establishment_Year Outlet_Size Outlet_Location_Type  \\\n",
       "0                       1999      Medium               Tier 1   \n",
       "1                       2007       Small               Tier 2   \n",
       "2                       1998       Small               Tier 3   \n",
       "3                       2007       Small               Tier 2   \n",
       "4                       1985      Medium               Tier 3   \n",
       "\n",
       "         Outlet_Type  Outlet_Size_Num  Outlet_Location_Type_Num  \\\n",
       "0  Supermarket Type1                2                         1   \n",
       "1  Supermarket Type1                1                         2   \n",
       "2      Grocery Store                1                         3   \n",
       "3  Supermarket Type1                1                         2   \n",
       "4  Supermarket Type3                2                         3   \n",
       "\n",
       "   Outlet_Type_Num  Item_Fat_Content_Num  Item_Type_Num  \n",
       "0                1                     1              7  \n",
       "1                1                     2              1  \n",
       "2                4                     1             15  \n",
       "3                1                     1              7  \n",
       "4                3                     2              1  "
      ]
     },
     "execution_count": 87,
     "metadata": {},
     "output_type": "execute_result"
    }
   ],
   "source": [
    "test['Outlet_Size_Num'] = test['Outlet_Size'].apply(Outlet_Size)\n",
    "test['Outlet_Location_Type_Num'] = test['Outlet_Location_Type'].apply(Outlet_Location_Type)\n",
    "test['Outlet_Type_Num'] = test['Outlet_Type'].apply(Outlet_Type)\n",
    "test['Item_Fat_Content_Num'] = test['Item_Fat_Content'].apply(Item_Fat_Content)\n",
    "test['Item_Type_Num'] = test['Item_Type'].apply(Item_Type)\n",
    "test.head()"
   ]
  },
  {
   "cell_type": "code",
   "execution_count": 88,
   "metadata": {},
   "outputs": [],
   "source": [
    "# from the test data set also we are taking those columns wchich were giving maximum R-Squre for training dataset\n",
    "x_test = test.loc[:,[\"Item_Visibility\",\"Item_MRP\",\"Outlet_Size_Num\",\"Outlet_Location_Type_Num\",\"Outlet_Type_Num\"]]"
   ]
  },
  {
   "cell_type": "code",
   "execution_count": 90,
   "metadata": {},
   "outputs": [],
   "source": [
    "# As during training time we have done squre root transform of our Sales so, to get back original sales value \n",
    "# for test dataset we will do squre again during prediction to get back origanal sales\n",
    "\n",
    "#predicting \"Item_Outlet_Sales\" for test data and added as a new column in the original test dataset\n",
    "test[\"Item_Outlet_Sales\"] = (lin_reg.predict(x_test))"
   ]
  },
  {
   "cell_type": "code",
   "execution_count": 92,
   "metadata": {},
   "outputs": [
    {
     "data": {
      "text/html": [
       "<div>\n",
       "<style scoped>\n",
       "    .dataframe tbody tr th:only-of-type {\n",
       "        vertical-align: middle;\n",
       "    }\n",
       "\n",
       "    .dataframe tbody tr th {\n",
       "        vertical-align: top;\n",
       "    }\n",
       "\n",
       "    .dataframe thead th {\n",
       "        text-align: right;\n",
       "    }\n",
       "</style>\n",
       "<table border=\"1\" class=\"dataframe\">\n",
       "  <thead>\n",
       "    <tr style=\"text-align: right;\">\n",
       "      <th></th>\n",
       "      <th>Item_Weight</th>\n",
       "      <th>Item_Fat_Content</th>\n",
       "      <th>Item_Visibility</th>\n",
       "      <th>Item_Type</th>\n",
       "      <th>Item_MRP</th>\n",
       "      <th>Outlet_Establishment_Year</th>\n",
       "      <th>Outlet_Size</th>\n",
       "      <th>Outlet_Location_Type</th>\n",
       "      <th>Outlet_Type</th>\n",
       "      <th>Outlet_Size_Num</th>\n",
       "      <th>Outlet_Location_Type_Num</th>\n",
       "      <th>Outlet_Type_Num</th>\n",
       "      <th>Item_Fat_Content_Num</th>\n",
       "      <th>Item_Type_Num</th>\n",
       "      <th>Item_Outlet_Sales</th>\n",
       "    </tr>\n",
       "  </thead>\n",
       "  <tbody>\n",
       "    <tr>\n",
       "      <th>0</th>\n",
       "      <td>20.750000</td>\n",
       "      <td>Low Fat</td>\n",
       "      <td>0.007565</td>\n",
       "      <td>Snack Foods</td>\n",
       "      <td>107.8622</td>\n",
       "      <td>1999</td>\n",
       "      <td>Medium</td>\n",
       "      <td>Tier 1</td>\n",
       "      <td>Supermarket Type1</td>\n",
       "      <td>2</td>\n",
       "      <td>1</td>\n",
       "      <td>1</td>\n",
       "      <td>1</td>\n",
       "      <td>7</td>\n",
       "      <td>40.841969</td>\n",
       "    </tr>\n",
       "    <tr>\n",
       "      <th>1</th>\n",
       "      <td>8.300000</td>\n",
       "      <td>reg</td>\n",
       "      <td>0.038428</td>\n",
       "      <td>Dairy</td>\n",
       "      <td>87.3198</td>\n",
       "      <td>2007</td>\n",
       "      <td>Small</td>\n",
       "      <td>Tier 2</td>\n",
       "      <td>Supermarket Type1</td>\n",
       "      <td>1</td>\n",
       "      <td>2</td>\n",
       "      <td>1</td>\n",
       "      <td>2</td>\n",
       "      <td>1</td>\n",
       "      <td>37.249744</td>\n",
       "    </tr>\n",
       "    <tr>\n",
       "      <th>2</th>\n",
       "      <td>14.600000</td>\n",
       "      <td>Low Fat</td>\n",
       "      <td>0.099575</td>\n",
       "      <td>Others</td>\n",
       "      <td>241.7538</td>\n",
       "      <td>1998</td>\n",
       "      <td>Small</td>\n",
       "      <td>Tier 3</td>\n",
       "      <td>Grocery Store</td>\n",
       "      <td>1</td>\n",
       "      <td>3</td>\n",
       "      <td>4</td>\n",
       "      <td>1</td>\n",
       "      <td>15</td>\n",
       "      <td>47.125385</td>\n",
       "    </tr>\n",
       "    <tr>\n",
       "      <th>3</th>\n",
       "      <td>7.315000</td>\n",
       "      <td>Low Fat</td>\n",
       "      <td>0.015388</td>\n",
       "      <td>Snack Foods</td>\n",
       "      <td>155.0340</td>\n",
       "      <td>2007</td>\n",
       "      <td>Small</td>\n",
       "      <td>Tier 2</td>\n",
       "      <td>Supermarket Type1</td>\n",
       "      <td>1</td>\n",
       "      <td>2</td>\n",
       "      <td>1</td>\n",
       "      <td>1</td>\n",
       "      <td>7</td>\n",
       "      <td>49.030954</td>\n",
       "    </tr>\n",
       "    <tr>\n",
       "      <th>4</th>\n",
       "      <td>12.695633</td>\n",
       "      <td>Regular</td>\n",
       "      <td>0.118599</td>\n",
       "      <td>Dairy</td>\n",
       "      <td>234.2300</td>\n",
       "      <td>1985</td>\n",
       "      <td>Medium</td>\n",
       "      <td>Tier 3</td>\n",
       "      <td>Supermarket Type3</td>\n",
       "      <td>2</td>\n",
       "      <td>3</td>\n",
       "      <td>3</td>\n",
       "      <td>2</td>\n",
       "      <td>1</td>\n",
       "      <td>53.538881</td>\n",
       "    </tr>\n",
       "  </tbody>\n",
       "</table>\n",
       "</div>"
      ],
      "text/plain": [
       "   Item_Weight Item_Fat_Content  Item_Visibility    Item_Type  Item_MRP  \\\n",
       "0    20.750000          Low Fat         0.007565  Snack Foods  107.8622   \n",
       "1     8.300000              reg         0.038428        Dairy   87.3198   \n",
       "2    14.600000          Low Fat         0.099575       Others  241.7538   \n",
       "3     7.315000          Low Fat         0.015388  Snack Foods  155.0340   \n",
       "4    12.695633          Regular         0.118599        Dairy  234.2300   \n",
       "\n",
       "   Outlet_Establishment_Year Outlet_Size Outlet_Location_Type  \\\n",
       "0                       1999      Medium               Tier 1   \n",
       "1                       2007       Small               Tier 2   \n",
       "2                       1998       Small               Tier 3   \n",
       "3                       2007       Small               Tier 2   \n",
       "4                       1985      Medium               Tier 3   \n",
       "\n",
       "         Outlet_Type  Outlet_Size_Num  Outlet_Location_Type_Num  \\\n",
       "0  Supermarket Type1                2                         1   \n",
       "1  Supermarket Type1                1                         2   \n",
       "2      Grocery Store                1                         3   \n",
       "3  Supermarket Type1                1                         2   \n",
       "4  Supermarket Type3                2                         3   \n",
       "\n",
       "   Outlet_Type_Num  Item_Fat_Content_Num  Item_Type_Num  Item_Outlet_Sales  \n",
       "0                1                     1              7          40.841969  \n",
       "1                1                     2              1          37.249744  \n",
       "2                4                     1             15          47.125385  \n",
       "3                1                     1              7          49.030954  \n",
       "4                3                     2              1          53.538881  "
      ]
     },
     "execution_count": 92,
     "metadata": {},
     "output_type": "execute_result"
    }
   ],
   "source": [
    "test.head()"
   ]
  },
  {
   "cell_type": "markdown",
   "metadata": {},
   "source": [
    "* Above is our test data set where a new column has been added which is nothing but our \"Item_Outlet_Sales\" according to our best linear regression model which is giving us **R-Squre:** **45%** with least **RMSE:** **13.69**\n",
    "\n",
    "* Used features in the model will give **45%** information about predicting sales accurately"
   ]
  },
  {
   "cell_type": "markdown",
   "metadata": {},
   "source": [
    "## -------------------------------------------------------------------------------------"
   ]
  }
 ],
 "metadata": {
  "kernelspec": {
   "display_name": "Python 3",
   "language": "python",
   "name": "python3"
  },
  "language_info": {
   "codemirror_mode": {
    "name": "ipython",
    "version": 3
   },
   "file_extension": ".py",
   "mimetype": "text/x-python",
   "name": "python",
   "nbconvert_exporter": "python",
   "pygments_lexer": "ipython3",
   "version": "3.7.1"
  }
 },
 "nbformat": 4,
 "nbformat_minor": 2
}
